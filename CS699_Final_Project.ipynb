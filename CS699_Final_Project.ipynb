{
  "nbformat": 4,
  "nbformat_minor": 0,
  "metadata": {
    "colab": {
      "provenance": []
    },
    "kernelspec": {
      "name": "python3",
      "display_name": "Python 3"
    },
    "language_info": {
      "name": "python"
    }
  },
  "cells": [
    {
      "cell_type": "markdown",
      "source": [
        "# **CS699 Final Project**\n",
        "\n",
        "*Cody Thayer*  |  *6.20.2023*"
      ],
      "metadata": {
        "id": "Yro38bTOK5fF"
      }
    },
    {
      "cell_type": "markdown",
      "source": [
        "To best visualize this python notebook, upload notebook to google colab, or use the following link:\n",
        "\n",
        "https://colab.research.google.com/drive/1tQ-wMfn7hGRHrPTdgnlcIwx2rbwElqxe?usp=sharing"
      ],
      "metadata": {
        "id": "LqoJnXRANLYV"
      }
    },
    {
      "cell_type": "markdown",
      "source": [
        "###**Table of Contents**\n",
        "\n",
        "**Libraries**\n",
        "- All relevant library that need to be loaded.\n",
        "\n",
        "**Best Model Code**\n",
        "- Separated out the code needed to run the best model of the 30 total created in the project.\n",
        "- Specific instructions on how to execute this code are in that section\n",
        "\n",
        "**Full Project Code**\n",
        "- All the code used for the entirety of the final project with more extensive notes.\n",
        "\n",
        "**Functions**\n",
        "- All functions I built to help with different aspects of the project\n"
      ],
      "metadata": {
        "id": "CZyR5yqmKXf3"
      }
    },
    {
      "cell_type": "markdown",
      "source": [
        "## **Libraries**"
      ],
      "metadata": {
        "id": "h8KDDKhyCvYn"
      }
    },
    {
      "cell_type": "code",
      "execution_count": 141,
      "metadata": {
        "id": "xhIgH1XKCqFt"
      },
      "outputs": [],
      "source": [
        "# Data Wrangling\n",
        "import pandas as pd\n",
        "import numpy as np\n",
        "import random\n",
        "import io\n",
        "from google.colab import files\n",
        "from pandas.core.api import NA\n",
        "import statistics as stats\n",
        "\n",
        "from sklearn import preprocessing\n",
        "from sklearn import metrics\n",
        "from sklearn.model_selection import train_test_split\n",
        "from sklearn.neural_network import MLPRegressor, MLPClassifier\n",
        "from sklearn.preprocessing import StandardScaler\n",
        "\n",
        "\n",
        "# Model Building\n",
        "from sklearn.model_selection import train_test_split, cross_val_score\n",
        "from sklearn.tree import DecisionTreeClassifier\n",
        "from sklearn.naive_bayes import GaussianNB\n",
        "from sklearn.neighbors import KNeighborsClassifier\n",
        "from sklearn.metrics import accuracy_score, recall_score, precision_score, matthews_corrcoef, classification_report, confusion_matrix, ConfusionMatrixDisplay\n",
        "from sklearn.metrics import RocCurveDisplay, roc_curve, PrecisionRecallDisplay, precision_recall_curve\n",
        "from sklearn.datasets import make_classification\n",
        "from sklearn.ensemble import RandomForestClassifier\n",
        "\n",
        "from keras.models import Sequential\n",
        "from keras.layers import Dense\n",
        "from keras import optimizers\n",
        "\n",
        "\n",
        "# Graphing\n",
        "from plotnine import * # ggplot2\n",
        "import seaborn as sns\n",
        "import matplotlib.pyplot as plt"
      ]
    },
    {
      "cell_type": "markdown",
      "source": [
        "## **Best Model Code**"
      ],
      "metadata": {
        "id": "P2T9OG2b_Xdm"
      }
    },
    {
      "cell_type": "markdown",
      "source": [
        "### ***Code Guide***\n"
      ],
      "metadata": {
        "id": "RrD8FejjLobI"
      }
    },
    {
      "cell_type": "markdown",
      "source": [
        "1. Load all libraries in the **Libraries** section of notebook.\n",
        "2. **Import Data**. Files you will need:\n",
        "  - ***'project-2018-BRFSS-arthritis.csv'*** the data file for the finla project.\n",
        "  - ***'f3_info_for_pca.csv'*** feature info for processing the data and building the Feature Set 5 used for the best model output. This file was submitted with my assignment.\n",
        "  - You can upload these files to google colab notebook using the \"Upload File\" function below in the Import Data section.\n",
        "3. **Preprocessing & Feature Selection**\n",
        "  - Various preprocessing of the data.\n",
        "  - Feature Set 5 is created using PCA (the best attribute selection method found)\n",
        "  - Final processed and attribute selected data is split into training and testing.\n",
        "4. **Build Model**\n",
        "  - The best model of the project is built. You will need to find the ideal k for the KNN model. A accuracy vs. k graph is output, look for an elbow point, and input this value into the KNN model as a parameter. I believe the preset k value will be find, but if not, adjust.\n",
        "  - Evaluation of the model."
      ],
      "metadata": {
        "id": "Q981yvdjLuKX"
      }
    },
    {
      "cell_type": "markdown",
      "source": [
        "### ***Import Data***"
      ],
      "metadata": {
        "id": "VI7mJZG__1v6"
      }
    },
    {
      "cell_type": "code",
      "source": [
        "# Upload Files\n",
        "uploaded = files.upload()"
      ],
      "metadata": {
        "colab": {
          "base_uri": "https://localhost:8080/",
          "height": 144
        },
        "id": "dRyYYaBnMz1J",
        "outputId": "a67da774-58c0-4f52-e76c-3c92aae0a819"
      },
      "execution_count": 142,
      "outputs": [
        {
          "output_type": "display_data",
          "data": {
            "text/plain": [
              "<IPython.core.display.HTML object>"
            ],
            "text/html": [
              "\n",
              "     <input type=\"file\" id=\"files-8aabcba7-3bd8-4234-9e4f-291853bec89b\" name=\"files[]\" multiple disabled\n",
              "        style=\"border:none\" />\n",
              "     <output id=\"result-8aabcba7-3bd8-4234-9e4f-291853bec89b\">\n",
              "      Upload widget is only available when the cell has been executed in the\n",
              "      current browser session. Please rerun this cell to enable.\n",
              "      </output>\n",
              "      <script>// Copyright 2017 Google LLC\n",
              "//\n",
              "// Licensed under the Apache License, Version 2.0 (the \"License\");\n",
              "// you may not use this file except in compliance with the License.\n",
              "// You may obtain a copy of the License at\n",
              "//\n",
              "//      http://www.apache.org/licenses/LICENSE-2.0\n",
              "//\n",
              "// Unless required by applicable law or agreed to in writing, software\n",
              "// distributed under the License is distributed on an \"AS IS\" BASIS,\n",
              "// WITHOUT WARRANTIES OR CONDITIONS OF ANY KIND, either express or implied.\n",
              "// See the License for the specific language governing permissions and\n",
              "// limitations under the License.\n",
              "\n",
              "/**\n",
              " * @fileoverview Helpers for google.colab Python module.\n",
              " */\n",
              "(function(scope) {\n",
              "function span(text, styleAttributes = {}) {\n",
              "  const element = document.createElement('span');\n",
              "  element.textContent = text;\n",
              "  for (const key of Object.keys(styleAttributes)) {\n",
              "    element.style[key] = styleAttributes[key];\n",
              "  }\n",
              "  return element;\n",
              "}\n",
              "\n",
              "// Max number of bytes which will be uploaded at a time.\n",
              "const MAX_PAYLOAD_SIZE = 100 * 1024;\n",
              "\n",
              "function _uploadFiles(inputId, outputId) {\n",
              "  const steps = uploadFilesStep(inputId, outputId);\n",
              "  const outputElement = document.getElementById(outputId);\n",
              "  // Cache steps on the outputElement to make it available for the next call\n",
              "  // to uploadFilesContinue from Python.\n",
              "  outputElement.steps = steps;\n",
              "\n",
              "  return _uploadFilesContinue(outputId);\n",
              "}\n",
              "\n",
              "// This is roughly an async generator (not supported in the browser yet),\n",
              "// where there are multiple asynchronous steps and the Python side is going\n",
              "// to poll for completion of each step.\n",
              "// This uses a Promise to block the python side on completion of each step,\n",
              "// then passes the result of the previous step as the input to the next step.\n",
              "function _uploadFilesContinue(outputId) {\n",
              "  const outputElement = document.getElementById(outputId);\n",
              "  const steps = outputElement.steps;\n",
              "\n",
              "  const next = steps.next(outputElement.lastPromiseValue);\n",
              "  return Promise.resolve(next.value.promise).then((value) => {\n",
              "    // Cache the last promise value to make it available to the next\n",
              "    // step of the generator.\n",
              "    outputElement.lastPromiseValue = value;\n",
              "    return next.value.response;\n",
              "  });\n",
              "}\n",
              "\n",
              "/**\n",
              " * Generator function which is called between each async step of the upload\n",
              " * process.\n",
              " * @param {string} inputId Element ID of the input file picker element.\n",
              " * @param {string} outputId Element ID of the output display.\n",
              " * @return {!Iterable<!Object>} Iterable of next steps.\n",
              " */\n",
              "function* uploadFilesStep(inputId, outputId) {\n",
              "  const inputElement = document.getElementById(inputId);\n",
              "  inputElement.disabled = false;\n",
              "\n",
              "  const outputElement = document.getElementById(outputId);\n",
              "  outputElement.innerHTML = '';\n",
              "\n",
              "  const pickedPromise = new Promise((resolve) => {\n",
              "    inputElement.addEventListener('change', (e) => {\n",
              "      resolve(e.target.files);\n",
              "    });\n",
              "  });\n",
              "\n",
              "  const cancel = document.createElement('button');\n",
              "  inputElement.parentElement.appendChild(cancel);\n",
              "  cancel.textContent = 'Cancel upload';\n",
              "  const cancelPromise = new Promise((resolve) => {\n",
              "    cancel.onclick = () => {\n",
              "      resolve(null);\n",
              "    };\n",
              "  });\n",
              "\n",
              "  // Wait for the user to pick the files.\n",
              "  const files = yield {\n",
              "    promise: Promise.race([pickedPromise, cancelPromise]),\n",
              "    response: {\n",
              "      action: 'starting',\n",
              "    }\n",
              "  };\n",
              "\n",
              "  cancel.remove();\n",
              "\n",
              "  // Disable the input element since further picks are not allowed.\n",
              "  inputElement.disabled = true;\n",
              "\n",
              "  if (!files) {\n",
              "    return {\n",
              "      response: {\n",
              "        action: 'complete',\n",
              "      }\n",
              "    };\n",
              "  }\n",
              "\n",
              "  for (const file of files) {\n",
              "    const li = document.createElement('li');\n",
              "    li.append(span(file.name, {fontWeight: 'bold'}));\n",
              "    li.append(span(\n",
              "        `(${file.type || 'n/a'}) - ${file.size} bytes, ` +\n",
              "        `last modified: ${\n",
              "            file.lastModifiedDate ? file.lastModifiedDate.toLocaleDateString() :\n",
              "                                    'n/a'} - `));\n",
              "    const percent = span('0% done');\n",
              "    li.appendChild(percent);\n",
              "\n",
              "    outputElement.appendChild(li);\n",
              "\n",
              "    const fileDataPromise = new Promise((resolve) => {\n",
              "      const reader = new FileReader();\n",
              "      reader.onload = (e) => {\n",
              "        resolve(e.target.result);\n",
              "      };\n",
              "      reader.readAsArrayBuffer(file);\n",
              "    });\n",
              "    // Wait for the data to be ready.\n",
              "    let fileData = yield {\n",
              "      promise: fileDataPromise,\n",
              "      response: {\n",
              "        action: 'continue',\n",
              "      }\n",
              "    };\n",
              "\n",
              "    // Use a chunked sending to avoid message size limits. See b/62115660.\n",
              "    let position = 0;\n",
              "    do {\n",
              "      const length = Math.min(fileData.byteLength - position, MAX_PAYLOAD_SIZE);\n",
              "      const chunk = new Uint8Array(fileData, position, length);\n",
              "      position += length;\n",
              "\n",
              "      const base64 = btoa(String.fromCharCode.apply(null, chunk));\n",
              "      yield {\n",
              "        response: {\n",
              "          action: 'append',\n",
              "          file: file.name,\n",
              "          data: base64,\n",
              "        },\n",
              "      };\n",
              "\n",
              "      let percentDone = fileData.byteLength === 0 ?\n",
              "          100 :\n",
              "          Math.round((position / fileData.byteLength) * 100);\n",
              "      percent.textContent = `${percentDone}% done`;\n",
              "\n",
              "    } while (position < fileData.byteLength);\n",
              "  }\n",
              "\n",
              "  // All done.\n",
              "  yield {\n",
              "    response: {\n",
              "      action: 'complete',\n",
              "    }\n",
              "  };\n",
              "}\n",
              "\n",
              "scope.google = scope.google || {};\n",
              "scope.google.colab = scope.google.colab || {};\n",
              "scope.google.colab._files = {\n",
              "  _uploadFiles,\n",
              "  _uploadFilesContinue,\n",
              "};\n",
              "})(self);\n",
              "</script> "
            ]
          },
          "metadata": {}
        },
        {
          "output_type": "stream",
          "name": "stdout",
          "text": [
            "Saving project-2018-BRFSS-arthritis.csv to project-2018-BRFSS-arthritis (1).csv\n",
            "Saving f3_info_for_pca.csv to f3_info_for_pca (1).csv\n",
            "Saving f3_info.csv to f3_info (1).csv\n"
          ]
        }
      ]
    },
    {
      "cell_type": "code",
      "source": [
        "# import raw survey data\n",
        "raw_data = pd.read_csv(io.BytesIO(uploaded['project-2018-BRFSS-arthritis.csv'])); raw_data"
      ],
      "metadata": {
        "id": "c1HnzYGT_cbW"
      },
      "execution_count": null,
      "outputs": []
    },
    {
      "cell_type": "code",
      "source": [
        "# import Feature Set 3 Info\n",
        "## Will be using this for PCA for Feature Set 5\n",
        "feature_info_path = 'f3_info_for_pca.csv'\n",
        "feature_info = pd.read_csv(io.BytesIO(uploaded[feature_info_path]), dtype='str'); feature_info\n",
        "features_id = \"F3\""
      ],
      "metadata": {
        "id": "kmY2POPY_k67"
      },
      "execution_count": 144,
      "outputs": []
    },
    {
      "cell_type": "markdown",
      "source": [
        "### ***Preprocessing & Feature Selection***"
      ],
      "metadata": {
        "id": "6yYWCzaQNxGt"
      }
    },
    {
      "cell_type": "markdown",
      "source": [
        "**Various Preprocessing Steps**"
      ],
      "metadata": {
        "id": "mXP-x-9rOsuc"
      }
    },
    {
      "cell_type": "code",
      "source": [
        "# Change names of columns using  dictionary\n",
        "rename_dict = {feature_info['feature_name'][row]:feature_info['rename'][row] for row in range(0, len(feature_info))}; rename_dict\n",
        "# rename columns\n",
        "df_raw1 = raw_data.rename(columns=rename_dict)"
      ],
      "metadata": {
        "id": "FPkipKHQ_v7p"
      },
      "execution_count": 145,
      "outputs": []
    },
    {
      "cell_type": "code",
      "source": [
        "# Place feature info into dictionary\n",
        "feature_dict = {feature_info['rename'][row]:{feature_info['null'][row]: feature_info['null_replacement'][row],\n",
        "                                     feature_info['val1'][row]: feature_info['val1_replacement'][row],\n",
        "                                     feature_info['val2'][row]: feature_info['val2_replacement'][row],\n",
        "                                     feature_info['val3'][row]: feature_info['val3_replacement'][row]}\n",
        " for row in range(0, len(feature_info))}; feature_dict"
      ],
      "metadata": {
        "id": "TwWJdoCLAFv6"
      },
      "execution_count": null,
      "outputs": []
    },
    {
      "cell_type": "code",
      "source": [
        "# Feature Selection\n",
        "# Subset our raw data\n",
        "#Create Feature Set 3 df which will be used for Feature Set 5 Creatation\n",
        "df = df_raw1[list(feature_info['rename'])]; df"
      ],
      "metadata": {
        "id": "IJ0WVbcFAiW8"
      },
      "execution_count": null,
      "outputs": []
    },
    {
      "cell_type": "code",
      "source": [
        "# Preprocessing\n",
        "# Replace values based on dictionary info and Type adjustments\n",
        "df = df.astype('str'); df.dtypes\n",
        "df = df.replace(feature_dict); df\n",
        "df.dtypes"
      ],
      "metadata": {
        "id": "Rj6LrLocOaiL"
      },
      "execution_count": null,
      "outputs": []
    },
    {
      "cell_type": "code",
      "source": [
        "# Preproccessing Replace Function\n",
        "\n",
        "def stat_replace(df):\n",
        "  for col in df:\n",
        "    if df[col].str.contains(('median')).any():\n",
        "      median_col = df[col].dropna()[~df[col].isin(['median', 'nan'])].astype(float)\n",
        "      median = round(stats.median(median_col))\n",
        "      df[col] = df[col].replace(['median', 'nan'], median)\n",
        "    elif df[col].str.contains('mean').any():\n",
        "      mean_col = df[col].dropna()[~df[col].isin(['mean', 'nan'])].astype(float)\n",
        "      mean = round(stats.mean(mean_col))\n",
        "      df[col] = df[col].replace(['mean', 'nan'], mean)\n",
        "    elif df[col].str.contains('mode').any():\n",
        "      mode_col = df[col].dropna()[~df[col].isin(['mode', 'nan'])].astype(float)\n",
        "      mode = round(stats.mode(mode_col))\n",
        "      df[col] = df[col].replace(['mode', 'nan'], mode)\n",
        "\n",
        "\n",
        "stat_replace(df); df\n",
        "df_f = df.astype('str'); df_f.dtypes\n",
        "df_values(df_f)\n",
        "\n",
        "# # Check out replacements\n",
        "# for col in df_f:\n",
        "#   print(df_f[col].unique())"
      ],
      "metadata": {
        "id": "2c2UFKWkAzlj"
      },
      "execution_count": null,
      "outputs": []
    },
    {
      "cell_type": "code",
      "source": [
        "# Normalize Data (0-1)\n",
        "# convert to np array to scale\n",
        "min_max_scaler = preprocessing.MinMaxScaler()\n",
        "df_scale = min_max_scaler.fit_transform(df_f); df_scale\n",
        "df_scale = pd.DataFrame(df_scale, columns=df.columns); df_scale\n",
        "\n",
        "df_scale"
      ],
      "metadata": {
        "id": "asllNpXtBPDc"
      },
      "execution_count": null,
      "outputs": []
    },
    {
      "cell_type": "markdown",
      "source": [
        "**Feature Selection:** Create Feature Set 5 using PCA"
      ],
      "metadata": {
        "id": "n7LgbwkCOj2S"
      }
    },
    {
      "cell_type": "code",
      "source": [
        "# Create Feature Set 5 using PCA\n",
        "features_id = \"F5\"\n",
        "\n",
        "# SVM\n",
        "# Dimensional Reduction\n",
        "# https://www.analyticsvidhya.com/blog/2018/08/dimensionality-reduction-techniques-python/\n",
        "from sklearn.decomposition import PCA\n",
        "pca = PCA(n_components=4)\n",
        "pca_result = pca.fit_transform(df_scale.values)\n",
        "\n",
        "pca_result\n",
        "df_pca = pd.DataFrame(pca_result); df_pca"
      ],
      "metadata": {
        "id": "n0h_CFLlBdbR"
      },
      "execution_count": null,
      "outputs": []
    },
    {
      "cell_type": "code",
      "source": [
        "# Visualize Principal Components\n",
        "plt.plot(range(4), pca.explained_variance_ratio_)\n",
        "plt.plot(range(4), np.cumsum(pca.explained_variance_ratio_))\n",
        "plt.title(\"Component-wise and Cumulative Explained Variance\")\n",
        "\n",
        "\n",
        "\n",
        "fig = plt.figure(figsize=(8,6))\n",
        "ax = fig.add_subplot(projection='3d')\n",
        "ax.text(-0.5, 0, 0.12, \"Principle Components 1:3\")\n",
        "\n",
        "ax.scatter(pca_result[:,0], pca_result[:,1], marker='.')\n",
        "ax.scatter(pca_result[:,1], pca_result[:,2], marker='.')\n",
        "ax.scatter(pca_result[:,2], pca_result[:,3], marker='.')\n",
        "ax.set_xlabel('PC 1')\n",
        "ax.set_ylabel('PC 2')\n",
        "ax.set_zlabel('PC 3')"
      ],
      "metadata": {
        "id": "zKmOy-85BkVL"
      },
      "execution_count": null,
      "outputs": []
    },
    {
      "cell_type": "markdown",
      "source": [
        "**Creating Final Training and Testing Data**"
      ],
      "metadata": {
        "id": "nj6PGjINO19U"
      }
    },
    {
      "cell_type": "code",
      "source": [
        "# Declare Feature Vector and Target Vectors\n",
        "X = df_pca\n",
        "y = df_scale['havarth']\n",
        "\n",
        "# Check Feature and Target Vectors\n",
        "X.columns, y.name\n",
        "X, y"
      ],
      "metadata": {
        "id": "enBieAfbBuZK"
      },
      "execution_count": null,
      "outputs": []
    },
    {
      "cell_type": "code",
      "source": [
        "# Split Data\n",
        "X_train, X_test, y_train, y_test = train_test_split(X, y, test_size = 0.34, random_state = 42)"
      ],
      "metadata": {
        "id": "ccBwuX-RB5dh"
      },
      "execution_count": 154,
      "outputs": []
    },
    {
      "cell_type": "markdown",
      "source": [
        "### ***Build Model***"
      ],
      "metadata": {
        "id": "M8NmYaQUO8-y"
      }
    },
    {
      "cell_type": "code",
      "source": [
        "model_name = \"KNN\"\n",
        "\n",
        "# Finding ideal k for KKN model\n",
        "k_values = [i for i in range (1,31)]\n",
        "scores = []\n",
        "for k in k_values:\n",
        "    knn = KNeighborsClassifier(n_neighbors=k)\n",
        "    score = cross_val_score(knn, X, y, cv=5) # doesn't test on the same train/test split each time, thats why you use X and y.\n",
        "    scores.append(np.mean(score))\n",
        "# cv = Determines the cross-validation splitting strategy.\n",
        "\n",
        "\n",
        "\n",
        "sns.lineplot(x = k_values, y = scores, marker = 'o')\n",
        "plt.xlabel(\"K Values\")\n",
        "plt.ylabel(\"Accuracy Score\")"
      ],
      "metadata": {
        "id": "CuGiyGaDCEwN"
      },
      "execution_count": null,
      "outputs": []
    },
    {
      "cell_type": "code",
      "source": [
        "# Build Model\n",
        "knn = KNeighborsClassifier(n_neighbors=6)\n",
        "knn.fit(X_train, y_train)"
      ],
      "metadata": {
        "colab": {
          "base_uri": "https://localhost:8080/",
          "height": 75
        },
        "id": "09GeaRkDCMFN",
        "outputId": "4b90341b-5feb-42ff-de4d-f727d7beb034"
      },
      "execution_count": 156,
      "outputs": [
        {
          "output_type": "execute_result",
          "data": {
            "text/plain": [
              "KNeighborsClassifier(n_neighbors=6)"
            ],
            "text/html": [
              "<style>#sk-container-id-6 {color: black;background-color: white;}#sk-container-id-6 pre{padding: 0;}#sk-container-id-6 div.sk-toggleable {background-color: white;}#sk-container-id-6 label.sk-toggleable__label {cursor: pointer;display: block;width: 100%;margin-bottom: 0;padding: 0.3em;box-sizing: border-box;text-align: center;}#sk-container-id-6 label.sk-toggleable__label-arrow:before {content: \"▸\";float: left;margin-right: 0.25em;color: #696969;}#sk-container-id-6 label.sk-toggleable__label-arrow:hover:before {color: black;}#sk-container-id-6 div.sk-estimator:hover label.sk-toggleable__label-arrow:before {color: black;}#sk-container-id-6 div.sk-toggleable__content {max-height: 0;max-width: 0;overflow: hidden;text-align: left;background-color: #f0f8ff;}#sk-container-id-6 div.sk-toggleable__content pre {margin: 0.2em;color: black;border-radius: 0.25em;background-color: #f0f8ff;}#sk-container-id-6 input.sk-toggleable__control:checked~div.sk-toggleable__content {max-height: 200px;max-width: 100%;overflow: auto;}#sk-container-id-6 input.sk-toggleable__control:checked~label.sk-toggleable__label-arrow:before {content: \"▾\";}#sk-container-id-6 div.sk-estimator input.sk-toggleable__control:checked~label.sk-toggleable__label {background-color: #d4ebff;}#sk-container-id-6 div.sk-label input.sk-toggleable__control:checked~label.sk-toggleable__label {background-color: #d4ebff;}#sk-container-id-6 input.sk-hidden--visually {border: 0;clip: rect(1px 1px 1px 1px);clip: rect(1px, 1px, 1px, 1px);height: 1px;margin: -1px;overflow: hidden;padding: 0;position: absolute;width: 1px;}#sk-container-id-6 div.sk-estimator {font-family: monospace;background-color: #f0f8ff;border: 1px dotted black;border-radius: 0.25em;box-sizing: border-box;margin-bottom: 0.5em;}#sk-container-id-6 div.sk-estimator:hover {background-color: #d4ebff;}#sk-container-id-6 div.sk-parallel-item::after {content: \"\";width: 100%;border-bottom: 1px solid gray;flex-grow: 1;}#sk-container-id-6 div.sk-label:hover label.sk-toggleable__label {background-color: #d4ebff;}#sk-container-id-6 div.sk-serial::before {content: \"\";position: absolute;border-left: 1px solid gray;box-sizing: border-box;top: 0;bottom: 0;left: 50%;z-index: 0;}#sk-container-id-6 div.sk-serial {display: flex;flex-direction: column;align-items: center;background-color: white;padding-right: 0.2em;padding-left: 0.2em;position: relative;}#sk-container-id-6 div.sk-item {position: relative;z-index: 1;}#sk-container-id-6 div.sk-parallel {display: flex;align-items: stretch;justify-content: center;background-color: white;position: relative;}#sk-container-id-6 div.sk-item::before, #sk-container-id-6 div.sk-parallel-item::before {content: \"\";position: absolute;border-left: 1px solid gray;box-sizing: border-box;top: 0;bottom: 0;left: 50%;z-index: -1;}#sk-container-id-6 div.sk-parallel-item {display: flex;flex-direction: column;z-index: 1;position: relative;background-color: white;}#sk-container-id-6 div.sk-parallel-item:first-child::after {align-self: flex-end;width: 50%;}#sk-container-id-6 div.sk-parallel-item:last-child::after {align-self: flex-start;width: 50%;}#sk-container-id-6 div.sk-parallel-item:only-child::after {width: 0;}#sk-container-id-6 div.sk-dashed-wrapped {border: 1px dashed gray;margin: 0 0.4em 0.5em 0.4em;box-sizing: border-box;padding-bottom: 0.4em;background-color: white;}#sk-container-id-6 div.sk-label label {font-family: monospace;font-weight: bold;display: inline-block;line-height: 1.2em;}#sk-container-id-6 div.sk-label-container {text-align: center;}#sk-container-id-6 div.sk-container {/* jupyter's `normalize.less` sets `[hidden] { display: none; }` but bootstrap.min.css set `[hidden] { display: none !important; }` so we also need the `!important` here to be able to override the default hidden behavior on the sphinx rendered scikit-learn.org. See: https://github.com/scikit-learn/scikit-learn/issues/21755 */display: inline-block !important;position: relative;}#sk-container-id-6 div.sk-text-repr-fallback {display: none;}</style><div id=\"sk-container-id-6\" class=\"sk-top-container\"><div class=\"sk-text-repr-fallback\"><pre>KNeighborsClassifier(n_neighbors=6)</pre><b>In a Jupyter environment, please rerun this cell to show the HTML representation or trust the notebook. <br />On GitHub, the HTML representation is unable to render, please try loading this page with nbviewer.org.</b></div><div class=\"sk-container\" hidden><div class=\"sk-item\"><div class=\"sk-estimator sk-toggleable\"><input class=\"sk-toggleable__control sk-hidden--visually\" id=\"sk-estimator-id-6\" type=\"checkbox\" checked><label for=\"sk-estimator-id-6\" class=\"sk-toggleable__label sk-toggleable__label-arrow\">KNeighborsClassifier</label><div class=\"sk-toggleable__content\"><pre>KNeighborsClassifier(n_neighbors=6)</pre></div></div></div></div></div>"
            ]
          },
          "metadata": {},
          "execution_count": 156
        }
      ]
    },
    {
      "cell_type": "code",
      "source": [
        "# predictions\n",
        "y_pred_knn = knn.predict(X_test); y_pred_knn\n",
        "# probabilities\n",
        "y_prob_knn = knn.predict_proba(X_test); y_prob_knn"
      ],
      "metadata": {
        "id": "A7bs0V5cCSp7",
        "colab": {
          "base_uri": "https://localhost:8080/"
        },
        "outputId": "a6866fa5-e4e5-452f-a692-119402dce4b4"
      },
      "execution_count": 157,
      "outputs": [
        {
          "output_type": "execute_result",
          "data": {
            "text/plain": [
              "array([[1.        , 0.        ],\n",
              "       [0.33333333, 0.66666667],\n",
              "       [1.        , 0.        ],\n",
              "       ...,\n",
              "       [0.        , 1.        ],\n",
              "       [0.        , 1.        ],\n",
              "       [1.        , 0.        ]])"
            ]
          },
          "metadata": {},
          "execution_count": 157
        }
      ]
    },
    {
      "cell_type": "code",
      "source": [
        "# Evaluation Function\n",
        "\n",
        "def eval_model(y_pred, y_test=y_test, model_name=model_name, features_id=features_id):\n",
        "\n",
        "  identifier =  model_name + \": \" + features_id; identifier\n",
        "\n",
        "  cm = confusion_matrix(y_test, y_pred)\n",
        "\n",
        "  # Confusion Matrix\n",
        "  tn, fp, fn, tp = cm.ravel()\n",
        "  tn, fp, fn, tp\n",
        "\n",
        "  # TP rate\n",
        "  # class = 1, positive\n",
        "  tpr = tp/(tp+fn); tpr\n",
        "  # class = 0, negative\n",
        "  tnr = tn/(tn+fp)\n",
        "  # weighted\n",
        "  total = (tp+fp+tn+fp); total\n",
        "  N = tn + fn\n",
        "  P = tp + fp\n",
        "  tpr_weighted = tnr*(N/total) + tpr*(P/total); tpr_weighted\n",
        "\n",
        "  # FP rate\n",
        "  # class = 1, positive\n",
        "  fpr = fp/(fp+tn); fpr\n",
        "  # class = 0, negative\n",
        "  fnr = fn/(fn+tp); fnr\n",
        "  # weighted\n",
        "  fpr_weighted = fpr*(P/total) + fnr*(N/total); fpr_weighted\n",
        "\n",
        "  # precision\n",
        "  # gives precision in form [0 Class, 1 Class (pos_label)]\n",
        "  precision = metrics.precision_score(y_test, y_pred, pos_label=1, average=None); precision\n",
        "  # weighted average over both classes\n",
        "  precision_weight = metrics.precision_score(y_test, y_pred, pos_label=1, average='weighted')\n",
        "\n",
        "  # recall\n",
        "  recall = metrics.recall_score(y_test, y_pred, pos_label=1, average=None)\n",
        "  recall_weight = metrics.recall_score(y_test, y_pred, pos_label=1, average='weighted')\n",
        "\n",
        "  # F-measure\n",
        "  f1 = metrics.f1_score(y_test, y_pred, pos_label=1, average=None); f1\n",
        "  f1_weight = metrics.f1_score(y_test, y_pred, pos_label=1, average='weighted')\n",
        "\n",
        "  # ROC area\n",
        "  # SHOULD THIS CHANGE? Don't think so since its a metric for both classes.\n",
        "  roc_area = metrics.roc_auc_score(y_test, y_pred, average=None); roc_area\n",
        "  roc_area_weight = metrics.roc_auc_score(y_test, y_pred, average='weighted'); roc_area_weight\n",
        "\n",
        "  # MCC\n",
        "  # Don't believe you can do a weighted average of this.\n",
        "  mcc = matthews_corrcoef(y_test, y_pred)\n",
        "\n",
        "  # Weighted average (over all classes) of each of the above performance measures.\n",
        "  # PRC (imbalanced data set).\n",
        "  precision_recall_curve(y_test, y_pred)\n",
        "\n",
        "  eval_dict = {\"1\": {'Model Name': identifier, 'Class': 0,\n",
        "                    'TPR':\tround(tnr, 3), 'FPR':\tround(fnr, 3),\n",
        "                    'Precision':\tround(precision[0], 3), 'Recall':\tround(recall[0], 3),\n",
        "                    'F1':\tround(f1[0], 3), 'ROC Area':\tround(roc_area, 3),\n",
        "                    'MCC': round(mcc, 3)},\n",
        "              \"2\": {'Model Name': identifier, 'Class': 1,\n",
        "                    'TPR':\tround(tpr, 3), 'FPR':\tround(fpr, 3),\n",
        "                    'Precision':\tround(precision[1], 3), 'Recall':\tround(recall[1], 3),\n",
        "                    'F1':\tround(f1[1], 3), 'ROC Area':\tround(roc_area, 3),\n",
        "                    'MCC': round(mcc, 3)},\n",
        "              \"3\": {'Model Name': identifier, 'Class': 'weighted',\n",
        "                    'TPR':\tround(tpr_weighted, 3), 'FPR':\tround(fpr_weighted, 3),\n",
        "                    'Precision':\tround(precision_weight, 3), 'Recall':\tround(recall_weight, 3),\n",
        "                    'F1':\tround(f1_weight, 3), 'ROC Area':\tround(roc_area, 3),\n",
        "                    'MCC': round(mcc, 3)}\n",
        "  }\n",
        "\n",
        "  df_eval = pd.DataFrame(eval_dict).transpose()\n",
        "\n",
        "  # Build cm graph\n",
        "  disp = ConfusionMatrixDisplay.from_predictions(y_test, y_pred, cmap='bone', colorbar=False)\n",
        "\n",
        "  return df_eval"
      ],
      "metadata": {
        "id": "TOG5YOU_J6xD"
      },
      "execution_count": 158,
      "outputs": []
    },
    {
      "cell_type": "code",
      "source": [
        "# evaluate Model\n",
        "accuracy = accuracy_score(y_test, y_pred_knn)\n",
        "print(\"KNN Model Accuracy:\", accuracy)\n",
        "\n",
        "eval_model(y_pred=y_pred_knn, model_name=model_name, features_id=features_id)"
      ],
      "metadata": {
        "id": "x2F9tmHZCbMu",
        "colab": {
          "base_uri": "https://localhost:8080/",
          "height": 593
        },
        "outputId": "33101db3-a4cf-4920-f643-a46f26e83012"
      },
      "execution_count": 159,
      "outputs": [
        {
          "output_type": "stream",
          "name": "stdout",
          "text": [
            "KNN Model Accuracy: 0.9677180877279448\n"
          ]
        },
        {
          "output_type": "execute_result",
          "data": {
            "text/plain": [
              "  Model Name     Class    TPR    FPR Precision Recall     F1 ROC Area    MCC\n",
              "1    KNN: F5         0  0.954  0.025      0.95  0.954  0.952    0.964  0.927\n",
              "2    KNN: F5         1  0.975  0.046     0.977  0.975  0.976    0.964  0.927\n",
              "3    KNN: F5  weighted  0.969  0.039     0.968  0.968  0.968    0.964  0.927"
            ],
            "text/html": [
              "\n",
              "  <div id=\"df-26846c3b-04ea-4f86-b9d0-1b79b33a7970\">\n",
              "    <div class=\"colab-df-container\">\n",
              "      <div>\n",
              "<style scoped>\n",
              "    .dataframe tbody tr th:only-of-type {\n",
              "        vertical-align: middle;\n",
              "    }\n",
              "\n",
              "    .dataframe tbody tr th {\n",
              "        vertical-align: top;\n",
              "    }\n",
              "\n",
              "    .dataframe thead th {\n",
              "        text-align: right;\n",
              "    }\n",
              "</style>\n",
              "<table border=\"1\" class=\"dataframe\">\n",
              "  <thead>\n",
              "    <tr style=\"text-align: right;\">\n",
              "      <th></th>\n",
              "      <th>Model Name</th>\n",
              "      <th>Class</th>\n",
              "      <th>TPR</th>\n",
              "      <th>FPR</th>\n",
              "      <th>Precision</th>\n",
              "      <th>Recall</th>\n",
              "      <th>F1</th>\n",
              "      <th>ROC Area</th>\n",
              "      <th>MCC</th>\n",
              "    </tr>\n",
              "  </thead>\n",
              "  <tbody>\n",
              "    <tr>\n",
              "      <th>1</th>\n",
              "      <td>KNN: F5</td>\n",
              "      <td>0</td>\n",
              "      <td>0.954</td>\n",
              "      <td>0.025</td>\n",
              "      <td>0.95</td>\n",
              "      <td>0.954</td>\n",
              "      <td>0.952</td>\n",
              "      <td>0.964</td>\n",
              "      <td>0.927</td>\n",
              "    </tr>\n",
              "    <tr>\n",
              "      <th>2</th>\n",
              "      <td>KNN: F5</td>\n",
              "      <td>1</td>\n",
              "      <td>0.975</td>\n",
              "      <td>0.046</td>\n",
              "      <td>0.977</td>\n",
              "      <td>0.975</td>\n",
              "      <td>0.976</td>\n",
              "      <td>0.964</td>\n",
              "      <td>0.927</td>\n",
              "    </tr>\n",
              "    <tr>\n",
              "      <th>3</th>\n",
              "      <td>KNN: F5</td>\n",
              "      <td>weighted</td>\n",
              "      <td>0.969</td>\n",
              "      <td>0.039</td>\n",
              "      <td>0.968</td>\n",
              "      <td>0.968</td>\n",
              "      <td>0.968</td>\n",
              "      <td>0.964</td>\n",
              "      <td>0.927</td>\n",
              "    </tr>\n",
              "  </tbody>\n",
              "</table>\n",
              "</div>\n",
              "      <button class=\"colab-df-convert\" onclick=\"convertToInteractive('df-26846c3b-04ea-4f86-b9d0-1b79b33a7970')\"\n",
              "              title=\"Convert this dataframe to an interactive table.\"\n",
              "              style=\"display:none;\">\n",
              "        \n",
              "  <svg xmlns=\"http://www.w3.org/2000/svg\" height=\"24px\"viewBox=\"0 0 24 24\"\n",
              "       width=\"24px\">\n",
              "    <path d=\"M0 0h24v24H0V0z\" fill=\"none\"/>\n",
              "    <path d=\"M18.56 5.44l.94 2.06.94-2.06 2.06-.94-2.06-.94-.94-2.06-.94 2.06-2.06.94zm-11 1L8.5 8.5l.94-2.06 2.06-.94-2.06-.94L8.5 2.5l-.94 2.06-2.06.94zm10 10l.94 2.06.94-2.06 2.06-.94-2.06-.94-.94-2.06-.94 2.06-2.06.94z\"/><path d=\"M17.41 7.96l-1.37-1.37c-.4-.4-.92-.59-1.43-.59-.52 0-1.04.2-1.43.59L10.3 9.45l-7.72 7.72c-.78.78-.78 2.05 0 2.83L4 21.41c.39.39.9.59 1.41.59.51 0 1.02-.2 1.41-.59l7.78-7.78 2.81-2.81c.8-.78.8-2.07 0-2.86zM5.41 20L4 18.59l7.72-7.72 1.47 1.35L5.41 20z\"/>\n",
              "  </svg>\n",
              "      </button>\n",
              "      \n",
              "  <style>\n",
              "    .colab-df-container {\n",
              "      display:flex;\n",
              "      flex-wrap:wrap;\n",
              "      gap: 12px;\n",
              "    }\n",
              "\n",
              "    .colab-df-convert {\n",
              "      background-color: #E8F0FE;\n",
              "      border: none;\n",
              "      border-radius: 50%;\n",
              "      cursor: pointer;\n",
              "      display: none;\n",
              "      fill: #1967D2;\n",
              "      height: 32px;\n",
              "      padding: 0 0 0 0;\n",
              "      width: 32px;\n",
              "    }\n",
              "\n",
              "    .colab-df-convert:hover {\n",
              "      background-color: #E2EBFA;\n",
              "      box-shadow: 0px 1px 2px rgba(60, 64, 67, 0.3), 0px 1px 3px 1px rgba(60, 64, 67, 0.15);\n",
              "      fill: #174EA6;\n",
              "    }\n",
              "\n",
              "    [theme=dark] .colab-df-convert {\n",
              "      background-color: #3B4455;\n",
              "      fill: #D2E3FC;\n",
              "    }\n",
              "\n",
              "    [theme=dark] .colab-df-convert:hover {\n",
              "      background-color: #434B5C;\n",
              "      box-shadow: 0px 1px 3px 1px rgba(0, 0, 0, 0.15);\n",
              "      filter: drop-shadow(0px 1px 2px rgba(0, 0, 0, 0.3));\n",
              "      fill: #FFFFFF;\n",
              "    }\n",
              "  </style>\n",
              "\n",
              "      <script>\n",
              "        const buttonEl =\n",
              "          document.querySelector('#df-26846c3b-04ea-4f86-b9d0-1b79b33a7970 button.colab-df-convert');\n",
              "        buttonEl.style.display =\n",
              "          google.colab.kernel.accessAllowed ? 'block' : 'none';\n",
              "\n",
              "        async function convertToInteractive(key) {\n",
              "          const element = document.querySelector('#df-26846c3b-04ea-4f86-b9d0-1b79b33a7970');\n",
              "          const dataTable =\n",
              "            await google.colab.kernel.invokeFunction('convertToInteractive',\n",
              "                                                     [key], {});\n",
              "          if (!dataTable) return;\n",
              "\n",
              "          const docLinkHtml = 'Like what you see? Visit the ' +\n",
              "            '<a target=\"_blank\" href=https://colab.research.google.com/notebooks/data_table.ipynb>data table notebook</a>'\n",
              "            + ' to learn more about interactive tables.';\n",
              "          element.innerHTML = '';\n",
              "          dataTable['output_type'] = 'display_data';\n",
              "          await google.colab.output.renderOutput(dataTable, element);\n",
              "          const docLink = document.createElement('div');\n",
              "          docLink.innerHTML = docLinkHtml;\n",
              "          element.appendChild(docLink);\n",
              "        }\n",
              "      </script>\n",
              "    </div>\n",
              "  </div>\n",
              "  "
            ]
          },
          "metadata": {},
          "execution_count": 159
        },
        {
          "output_type": "display_data",
          "data": {
            "text/plain": [
              "<Figure size 640x480 with 1 Axes>"
            ],
            "image/png": "[encoded data removed]"
          },
          "metadata": {}
        }
      ]
    },
    {
      "cell_type": "code",
      "source": [
        "# Graph ROC and PRC Function\n",
        "\n",
        "def model_curves(y_probs, y_test=y_test, model_type=\"NA\"):\n",
        "\n",
        "  if model_type == \"NN\":\n",
        "    # get positive class probabilities\n",
        "    pos_probs = y_probs\n",
        "  else:\n",
        "    pos_probs = pd.DataFrame(y_probs)[1]\n",
        "\n",
        "  # ROC\n",
        "  fpr, tpr, _ = roc_curve(y_test, pos_probs, pos_label=1)\n",
        "  roc_display = RocCurveDisplay(fpr=fpr, tpr=tpr) #.plot()\n",
        "\n",
        "  # PRC\n",
        "  prec, recall, _ = precision_recall_curve(y_test, pos_probs, pos_label=1)\n",
        "  pr_display = PrecisionRecallDisplay(precision=prec, recall=recall) # .plot()\n",
        "\n",
        "  # Plot\n",
        "  fig, (ax1, ax2) = plt.subplots(1, 2, figsize=(9, 4))\n",
        "\n",
        "  roc_display.plot(ax=ax1)\n",
        "  pr_display.plot(ax=ax2)\n",
        "  plt.show()"
      ],
      "metadata": {
        "id": "WEQqwSLDKGAc"
      },
      "execution_count": 160,
      "outputs": []
    },
    {
      "cell_type": "code",
      "source": [
        "model_curves(y_probs=y_prob_knn)"
      ],
      "metadata": {
        "id": "cdbOLQVjF_RN",
        "colab": {
          "base_uri": "https://localhost:8080/",
          "height": 388
        },
        "outputId": "f406b1e7-b124-4017-aa53-d2e5641c11cb"
      },
      "execution_count": 161,
      "outputs": [
        {
          "output_type": "display_data",
          "data": {
            "text/plain": [
              "<Figure size 900x400 with 2 Axes>"
            ],
            "image/png": "[encoded data removed]"
          },
          "metadata": {}
        }
      ]
    },
    {
      "cell_type": "markdown",
      "source": [
        "## **Full Project Code**"
      ],
      "metadata": {
        "id": "c0BRgztULaCY"
      }
    },
    {
      "cell_type": "markdown",
      "source": [
        "### **Import Data**"
      ],
      "metadata": {
        "id": "xNa8M_iPwJGb"
      }
    },
    {
      "cell_type": "markdown",
      "source": [
        "#### ***Upload Files***"
      ],
      "metadata": {
        "id": "r8zF322qxEWh"
      }
    },
    {
      "cell_type": "code",
      "source": [
        "# Upload Files\n",
        "uploaded = files.upload()"
      ],
      "metadata": {
        "id": "Duv4WQciCuBV"
      },
      "execution_count": null,
      "outputs": []
    },
    {
      "cell_type": "markdown",
      "source": [
        "#### ***Raw CDC Data***"
      ],
      "metadata": {
        "id": "3kMMfvB-Y8Wr"
      }
    },
    {
      "cell_type": "code",
      "source": [
        "raw_data = pd.read_csv(io.BytesIO(uploaded['project-2018-BRFSS-arthritis.csv'])); raw_data"
      ],
      "metadata": {
        "id": "OQm6ot7-DBzN"
      },
      "execution_count": null,
      "outputs": []
    },
    {
      "cell_type": "code",
      "source": [
        "# Explore data\n",
        "raw_data.columns\n",
        "raw_data.shape\n",
        "for col in raw_data.columns:\n",
        "    print(raw_data[col].value_counts())"
      ],
      "metadata": {
        "id": "kucbMzzVtsMw"
      },
      "execution_count": null,
      "outputs": []
    },
    {
      "cell_type": "markdown",
      "source": [
        "#### ***Feature Info***"
      ],
      "metadata": {
        "id": "ylhRvYDcTw3m"
      }
    },
    {
      "cell_type": "code",
      "source": [
        "# read feature info\n",
        "\n",
        "# # Feature Set 1\n",
        "# feature_info_path = 'f1_info.csv'\n",
        "# feature_info = pd.read_csv(io.BytesIO(uploaded[feature_info_path]), dtype='str'); feature_info\n",
        "# features_id = \"F1\"\n",
        "\n",
        "# # Feature Set 2\n",
        "# feature_info_path = 'f2_info.csv'\n",
        "# feature_info = pd.read_csv(io.BytesIO(uploaded[feature_info_path]), dtype='str'); feature_info\n",
        "# features_id = \"F2\"\n",
        "\n",
        "# Feature Set 3\n",
        "# feature_info_path = 'f3_info.csv'\n",
        "feature_info_path = 'f3_info_for_pca.csv'\n",
        "\n",
        "feature_info = pd.read_csv(io.BytesIO(uploaded[feature_info_path]), dtype='str'); feature_info\n",
        "features_id = \"F3\"\n",
        "\n",
        "# # Feature Set 4\n",
        "# ## subset of Feature Set 3\n",
        "# top_10_gini_features = ['design_weight', 'bmi', 'employ', 'age', 'state', 'phys_health',\n",
        "#                         'gen_health', 'sleep', 'income', 'mental_health', 'havarth']\n",
        "# features_id = \"F4\""
      ],
      "metadata": {
        "id": "02LsunHwonSx"
      },
      "execution_count": null,
      "outputs": []
    },
    {
      "cell_type": "code",
      "source": [
        "# Change names of columns\n",
        "# create dictionary\n",
        "rename_dict = {feature_info['feature_name'][row]:feature_info['rename'][row] for row in range(0, len(feature_info))}; rename_dict\n",
        "# rename columns\n",
        "df_raw1 = raw_data.rename(columns=rename_dict)"
      ],
      "metadata": {
        "id": "wliffS_pquEC"
      },
      "execution_count": null,
      "outputs": []
    },
    {
      "cell_type": "markdown",
      "source": [
        "### **Preprocessing & Feature Selection**"
      ],
      "metadata": {
        "id": "MMicjwdzNvej"
      }
    },
    {
      "cell_type": "code",
      "source": [
        "# Load value replacement info\n",
        "# ALWAYS TYPE ISSUES!\n",
        "# starting will all strings, since using \"median\", \"mode\", \"mean\"\n",
        "# was a bad idea looking back. should have a numerical code for each of the replacement types.\n",
        "\n",
        "# Place into dictionary\n",
        "feature_dict = {feature_info['rename'][row]:{feature_info['null'][row]: feature_info['null_replacement'][row],\n",
        "                                     feature_info['val1'][row]: feature_info['val1_replacement'][row],\n",
        "                                     feature_info['val2'][row]: feature_info['val2_replacement'][row],\n",
        "                                     feature_info['val3'][row]: feature_info['val3_replacement'][row]}\n",
        " for row in range(0, len(feature_info))}; feature_dict"
      ],
      "metadata": {
        "id": "YzFpp1Hj041w"
      },
      "execution_count": null,
      "outputs": []
    },
    {
      "cell_type": "code",
      "source": [
        "# find and replace using the dictionary and adjust TYPE\n",
        "\n",
        "# Starting DataFrame for each (1-5) Feature Sets\n",
        "\n",
        "# Feature 1 and Feature 2 df\n",
        "df = df_raw1[list(feature_info['rename'])]; df\n",
        "\n",
        "## Feature 3 df\n",
        "# df = df_combo4\n",
        "\n",
        "# # Feature 4 df\n",
        "# df = df_raw1[top_10_gini_features]; df\n",
        "\n",
        "df = df.astype('str'); df.dtypes\n",
        "df = df.replace(feature_dict); df\n",
        "df.dtypes\n"
      ],
      "metadata": {
        "id": "iKYtMwzp05cD"
      },
      "execution_count": null,
      "outputs": []
    },
    {
      "cell_type": "markdown",
      "source": [
        "#### ***Feature Set 3 Correlation Analysis***"
      ],
      "metadata": {
        "id": "eD9xwCqCRpbo"
      }
    },
    {
      "cell_type": "markdown",
      "source": [
        "###### Correlation Analysis"
      ],
      "metadata": {
        "id": "Fl3sRo5kwIdR"
      }
    },
    {
      "cell_type": "code",
      "source": [
        "# Features Round 2\n",
        "# DROP HAVARTH\n",
        "cor_df = df_scale.drop('havarth', axis=1); cor_df\n",
        "\n",
        "# Create correlation matrix\n",
        "# abs() because we are only worried about finding strong correlation (not direction of correlation)\n",
        "f2_cor = cor_df.corr(method='pearson').abs(); f2_cor\n",
        "\n",
        "# Find highly correlated pairs\n",
        "# get upper triangle of correlation matrix\n",
        "upper = f2_cor.where(np.triu(np.ones(f2_cor.shape), k=1).astype(bool))\n",
        "\n",
        "upper\n",
        "\n",
        "# find features with correlation greater than 0.95\n",
        "to_drop = [column for column in upper.columns if any(upper[column] > 0.40)]; to_drop\n",
        "\n",
        "# drop highly correlated features from dataframe\n",
        "# df_scale.drop(to_drop, axis=1, inplace=True)\n",
        "\n",
        "\n",
        "# export cor matrix\n",
        "# only 5 pairs with |correlation coefficience| > 0.40\n",
        "# ['employ', 'phys_health', 'race', 'sex', 'weight']\n",
        "\n",
        "# file_name = \"cor_results.csv\"\n",
        "# with open(file_name, 'w') as f:\n",
        "#     upper.to_csv(file_name)"
      ],
      "metadata": {
        "colab": {
          "base_uri": "https://localhost:8080/"
        },
        "id": "UCdJcQqMeNEl",
        "outputId": "2128fd51-fc7b-4ee2-dcaf-4563ba05edc2"
      },
      "execution_count": null,
      "outputs": [
        {
          "output_type": "execute_result",
          "data": {
            "text/plain": [
              "['employ', 'phys_health', 'race', 'sex', 'weight']"
            ]
          },
          "metadata": {},
          "execution_count": 433
        }
      ]
    },
    {
      "cell_type": "markdown",
      "source": [
        "###### Combining Features"
      ],
      "metadata": {
        "id": "vDdbPfxW77wj"
      }
    },
    {
      "cell_type": "code",
      "source": [
        "# Combining Features\n",
        "\n",
        "df_combo = df_raw1[list(feature_info['rename'])]\n",
        "df_combo\n",
        "\n",
        "\n",
        "# Combine cancer cols\n",
        "df_combo['cancer'] = np.where((df_combo['cancer1'] == 2) | (df_combo['cancer2'] == 2), 2, 1)\n",
        "df_combo2 = df_combo.drop(['cancer1', 'cancer2'], axis=1)\n",
        "df_combo2\n",
        "\n",
        "# Check\n",
        "df_combo.loc[78:80,]\n",
        "\n",
        "\n",
        "\n",
        "# Combine physical difficulty cols\n",
        "df_combo2['phy_diff'] = np.where(((df_combo2['phy_diff1'] == '2') | (df_combo2['phy_diff2'] == '2') | (df_combo2['phy_diff3'] == '2')), '2', '1')\n",
        "df_combo2\n",
        "df_combo3 = df_combo2.drop(['phy_diff1', 'phy_diff2', 'phy_diff3'], axis=1)\n",
        "df_combo3\n",
        "\n",
        "# Check\n",
        "df_combo.loc[150:153,['phy_diff1', 'phy_diff2', 'phy_diff3']]\n",
        "# 150 should be 2, 151 > 2, 152 > 1\n",
        "df_combo3.loc[150:153,'phy_diff']\n",
        "# issues with type, convert 2 to str.\n",
        "\n",
        "\n",
        "\n",
        "# Combine physical difficulty cols\n",
        "df_combo3['heart'] = np.where(((df_combo3['heart1'] == '2') | (df_combo3['heart2'] == '2') | (df_combo3['heart3'] == '2')), '2', '1')\n",
        "df_combo3\n",
        "df_combo4 = df_combo3.drop(['heart1', 'heart2', 'heart3'], axis=1)\n",
        "df_combo4\n",
        "\n",
        "# Check\n",
        "df_combo.loc[160:170,['heart1', 'heart2', 'heart3']]\n",
        "# 150 should be 2, 151 > 2, 152 > 2, 163 > 2, 169 > 1\n",
        "df_combo4.loc[160:170,'heart']\n",
        "\n",
        "\n",
        "# # Fill '?' with mode of the col.\n",
        "\n",
        "# mode_cancer = stats.mode(df_combo4['cancer'])\n",
        "# df_simple_find_replace(df_combo4, 'cancer', ['?'], mode_cancer)\n",
        "\n",
        "# df_values(df.cancer)\n",
        "\n",
        "# df\n",
        "# # Final df\n",
        "# df_combo4\n",
        "\n",
        "# df_f[df_f['bmi']=='?']"
      ],
      "metadata": {
        "id": "VF5m6FyQ74F9"
      },
      "execution_count": null,
      "outputs": []
    },
    {
      "cell_type": "markdown",
      "source": [
        "#### ***Initially Processed Dataframe***"
      ],
      "metadata": {
        "id": "sKK3e4vJ9DsZ"
      }
    },
    {
      "cell_type": "code",
      "source": [
        "# Find and Replace\n",
        "stat_replace(df); df\n",
        "df_f = df.astype('str'); df_f.dtypes # idk why the type change doesnt work in the function.\n",
        "df_values(df_f)"
      ],
      "metadata": {
        "id": "Bzp4D3tpp__-"
      },
      "execution_count": null,
      "outputs": []
    },
    {
      "cell_type": "code",
      "source": [
        "# Final df\n",
        "df_f\n",
        "\n",
        "# Looks very clean!\n",
        "for col in df_f:\n",
        "  print(df_f[col].unique())"
      ],
      "metadata": {
        "id": "hHWwTShP9F0e"
      },
      "execution_count": null,
      "outputs": []
    },
    {
      "cell_type": "markdown",
      "source": [
        "#### ***Normalization***"
      ],
      "metadata": {
        "id": "Xb2XxwgU_zNg"
      }
    },
    {
      "cell_type": "code",
      "source": [
        "# converts to np array to scale\n",
        "min_max_scaler = preprocessing.MinMaxScaler()\n",
        "df_scale = min_max_scaler.fit_transform(df_f); df_scale\n",
        "# convert back to df and rename columns\n",
        "df_scale = pd.DataFrame(df_scale, columns=df.columns); df_scale\n",
        "# df_scale = pd.DataFrame(df_scale, columns=rep_info['rename']); df_scale\n",
        "\n",
        "\n",
        "# Check scaling\n",
        "# df_f.head(10), df_x.head(10)\n",
        "\n",
        "# Note: all 1s are now 0s. and 2s and now 1s.\n",
        "df_scale"
      ],
      "metadata": {
        "id": "p76zQtjs_4Xr"
      },
      "execution_count": null,
      "outputs": []
    },
    {
      "cell_type": "markdown",
      "source": [
        "#### ***Feature Set 5 PCA***"
      ],
      "metadata": {
        "id": "ce2Dg1jZq00H"
      }
    },
    {
      "cell_type": "code",
      "source": [
        "# PCA\n",
        "features_id = \"F5\"\n",
        "\n",
        "# SVM\n",
        "# Dimensional Reduction\n",
        "# https://www.analyticsvidhya.com/blog/2018/08/dimensionality-reduction-techniques-python/\n",
        "from sklearn.decomposition import PCA\n",
        "pca = PCA(n_components=4)\n",
        "pca_result = pca.fit_transform(df_scale.values)\n",
        "\n",
        "pca_result\n",
        "df_pca = pd.DataFrame(pca_result)\n",
        "\n",
        "\n",
        "plt.plot(range(4), pca.explained_variance_ratio_)\n",
        "plt.plot(range(4), np.cumsum(pca.explained_variance_ratio_))\n",
        "plt.title(\"Component-wise and Cumulative Explained Variance\")\n",
        "\n",
        "\n",
        "\n",
        "fig = plt.figure(figsize=(8,6))\n",
        "ax = fig.add_subplot(projection='3d')\n",
        "ax.text(-0.5, 0, 0.12, \"Principle Components 1:3\")\n",
        "\n",
        "ax.scatter(pca_result[:,0], pca_result[:,1], marker='.')\n",
        "ax.scatter(pca_result[:,1], pca_result[:,2], marker='.')\n",
        "ax.scatter(pca_result[:,2], pca_result[:,3], marker='.')\n",
        "ax.set_xlabel('PC 1')\n",
        "ax.set_ylabel('PC 2')\n",
        "ax.set_zlabel('PC 3')"
      ],
      "metadata": {
        "id": "TmYebN4Sq2lW"
      },
      "execution_count": null,
      "outputs": []
    },
    {
      "cell_type": "markdown",
      "source": [
        "#### ***Split Data***"
      ],
      "metadata": {
        "id": "0z9pYxPgHxAv"
      }
    },
    {
      "cell_type": "code",
      "source": [
        "# starting df\n",
        "\n",
        "# # Feature Set 1-4\n",
        "# df_scale\n",
        "\n",
        "# Feature Set 5\n",
        "df_pca\n",
        "\n",
        "# file_name = \"thayer-project-initial.csv\"\n",
        "# with open(file_name, 'w') as f:\n",
        "#   df_scale.to_csv(file_name)"
      ],
      "metadata": {
        "id": "TXLQhvbyFmhI"
      },
      "execution_count": null,
      "outputs": []
    },
    {
      "cell_type": "code",
      "source": [
        "# Declare Feature Vector and Target Vectors\n",
        "\n",
        "# # df with just out features, X\n",
        "# X = df_scale.drop(['havarth'], axis=1)\n",
        "\n",
        "# Feature Set 5\n",
        "X = df_pca\n",
        "\n",
        "\n",
        "# df with just our classes/predictions/targets, y\n",
        "y = df_scale['havarth']\n",
        "\n",
        "# Check\n",
        "X.columns, y.name\n",
        "X, y"
      ],
      "metadata": {
        "id": "A2advqgBI-gr"
      },
      "execution_count": null,
      "outputs": []
    },
    {
      "cell_type": "code",
      "source": [
        "# split data into training and testing dfs\n",
        "X_train, X_test, y_train, y_test = train_test_split(X, y, test_size = 0.34, random_state = 42)\n",
        "\n",
        "# file_name = \"thayer-project-training.csv\"\n",
        "# with open(file_name, 'w') as f:\n",
        "#   X_train.to_csv(file_name)\n",
        "\n",
        "# file_name = \"thayer-project-training_y.csv\"\n",
        "# with open(file_name, 'w') as f:\n",
        "#   y_train.to_csv(file_name)\n",
        "\n",
        "# file_name = \"thayer-project-test.csv\"\n",
        "# with open(file_name, 'w') as f:\n",
        "#   X_test.to_csv(file_name)\n",
        "\n",
        "# file_name = \"thayer-project-test_y.csv\"\n",
        "# with open(file_name, 'w') as f:\n",
        "#   y_test.to_csv(file_name)"
      ],
      "metadata": {
        "id": "xxDyu58xHymm"
      },
      "execution_count": null,
      "outputs": []
    },
    {
      "cell_type": "markdown",
      "source": [
        "### **Classification Models**"
      ],
      "metadata": {
        "id": "D_wdaDjJHKyN"
      }
    },
    {
      "cell_type": "markdown",
      "source": [
        "#### **Model 1: Decision Tree**"
      ],
      "metadata": {
        "id": "AmORC2YbHNmi"
      }
    },
    {
      "cell_type": "markdown",
      "source": [
        "##### **Build Model**"
      ],
      "metadata": {
        "id": "wC2XzoNezIm2"
      }
    },
    {
      "cell_type": "code",
      "source": [
        "model_name = \"Decision Tree\"\n",
        "\n",
        "# instantiate the DecisionTreeClassifier model with criterion gini index\n",
        "dt_model = DecisionTreeClassifier(criterion='gini') # max_depth=5\n",
        "\n",
        "# fit the model\n",
        "dt_model.fit(X_train, y_train)"
      ],
      "metadata": {
        "colab": {
          "base_uri": "https://localhost:8080/",
          "height": 75
        },
        "id": "149pjnA1HMFU",
        "outputId": "67ab7d4d-66b6-4a8c-d17b-ae2b2df66c2b"
      },
      "execution_count": null,
      "outputs": [
        {
          "output_type": "execute_result",
          "data": {
            "text/plain": [
              "DecisionTreeClassifier()"
            ],
            "text/html": [
              "<style>#sk-container-id-55 {color: black;background-color: white;}#sk-container-id-55 pre{padding: 0;}#sk-container-id-55 div.sk-toggleable {background-color: white;}#sk-container-id-55 label.sk-toggleable__label {cursor: pointer;display: block;width: 100%;margin-bottom: 0;padding: 0.3em;box-sizing: border-box;text-align: center;}#sk-container-id-55 label.sk-toggleable__label-arrow:before {content: \"▸\";float: left;margin-right: 0.25em;color: #696969;}#sk-container-id-55 label.sk-toggleable__label-arrow:hover:before {color: black;}#sk-container-id-55 div.sk-estimator:hover label.sk-toggleable__label-arrow:before {color: black;}#sk-container-id-55 div.sk-toggleable__content {max-height: 0;max-width: 0;overflow: hidden;text-align: left;background-color: #f0f8ff;}#sk-container-id-55 div.sk-toggleable__content pre {margin: 0.2em;color: black;border-radius: 0.25em;background-color: #f0f8ff;}#sk-container-id-55 input.sk-toggleable__control:checked~div.sk-toggleable__content {max-height: 200px;max-width: 100%;overflow: auto;}#sk-container-id-55 input.sk-toggleable__control:checked~label.sk-toggleable__label-arrow:before {content: \"▾\";}#sk-container-id-55 div.sk-estimator input.sk-toggleable__control:checked~label.sk-toggleable__label {background-color: #d4ebff;}#sk-container-id-55 div.sk-label input.sk-toggleable__control:checked~label.sk-toggleable__label {background-color: #d4ebff;}#sk-container-id-55 input.sk-hidden--visually {border: 0;clip: rect(1px 1px 1px 1px);clip: rect(1px, 1px, 1px, 1px);height: 1px;margin: -1px;overflow: hidden;padding: 0;position: absolute;width: 1px;}#sk-container-id-55 div.sk-estimator {font-family: monospace;background-color: #f0f8ff;border: 1px dotted black;border-radius: 0.25em;box-sizing: border-box;margin-bottom: 0.5em;}#sk-container-id-55 div.sk-estimator:hover {background-color: #d4ebff;}#sk-container-id-55 div.sk-parallel-item::after {content: \"\";width: 100%;border-bottom: 1px solid gray;flex-grow: 1;}#sk-container-id-55 div.sk-label:hover label.sk-toggleable__label {background-color: #d4ebff;}#sk-container-id-55 div.sk-serial::before {content: \"\";position: absolute;border-left: 1px solid gray;box-sizing: border-box;top: 0;bottom: 0;left: 50%;z-index: 0;}#sk-container-id-55 div.sk-serial {display: flex;flex-direction: column;align-items: center;background-color: white;padding-right: 0.2em;padding-left: 0.2em;position: relative;}#sk-container-id-55 div.sk-item {position: relative;z-index: 1;}#sk-container-id-55 div.sk-parallel {display: flex;align-items: stretch;justify-content: center;background-color: white;position: relative;}#sk-container-id-55 div.sk-item::before, #sk-container-id-55 div.sk-parallel-item::before {content: \"\";position: absolute;border-left: 1px solid gray;box-sizing: border-box;top: 0;bottom: 0;left: 50%;z-index: -1;}#sk-container-id-55 div.sk-parallel-item {display: flex;flex-direction: column;z-index: 1;position: relative;background-color: white;}#sk-container-id-55 div.sk-parallel-item:first-child::after {align-self: flex-end;width: 50%;}#sk-container-id-55 div.sk-parallel-item:last-child::after {align-self: flex-start;width: 50%;}#sk-container-id-55 div.sk-parallel-item:only-child::after {width: 0;}#sk-container-id-55 div.sk-dashed-wrapped {border: 1px dashed gray;margin: 0 0.4em 0.5em 0.4em;box-sizing: border-box;padding-bottom: 0.4em;background-color: white;}#sk-container-id-55 div.sk-label label {font-family: monospace;font-weight: bold;display: inline-block;line-height: 1.2em;}#sk-container-id-55 div.sk-label-container {text-align: center;}#sk-container-id-55 div.sk-container {/* jupyter's `normalize.less` sets `[hidden] { display: none; }` but bootstrap.min.css set `[hidden] { display: none !important; }` so we also need the `!important` here to be able to override the default hidden behavior on the sphinx rendered scikit-learn.org. See: https://github.com/scikit-learn/scikit-learn/issues/21755 */display: inline-block !important;position: relative;}#sk-container-id-55 div.sk-text-repr-fallback {display: none;}</style><div id=\"sk-container-id-55\" class=\"sk-top-container\"><div class=\"sk-text-repr-fallback\"><pre>DecisionTreeClassifier()</pre><b>In a Jupyter environment, please rerun this cell to show the HTML representation or trust the notebook. <br />On GitHub, the HTML representation is unable to render, please try loading this page with nbviewer.org.</b></div><div class=\"sk-container\" hidden><div class=\"sk-item\"><div class=\"sk-estimator sk-toggleable\"><input class=\"sk-toggleable__control sk-hidden--visually\" id=\"sk-estimator-id-55\" type=\"checkbox\" checked><label for=\"sk-estimator-id-55\" class=\"sk-toggleable__label sk-toggleable__label-arrow\">DecisionTreeClassifier</label><div class=\"sk-toggleable__content\"><pre>DecisionTreeClassifier()</pre></div></div></div></div></div>"
            ]
          },
          "metadata": {},
          "execution_count": 943
        }
      ]
    },
    {
      "cell_type": "code",
      "source": [
        "# predictions\n",
        "y_pred_dt = dt_model.predict(X_test); y_pred_dt\n",
        "y_prob_dt = dt_model.predict_proba(X_test); y_prob_dt"
      ],
      "metadata": {
        "colab": {
          "base_uri": "https://localhost:8080/"
        },
        "id": "R1nm4jLfSkA9",
        "outputId": "770d9ea4-27e2-48f8-9afe-bda13bd3647f"
      },
      "execution_count": null,
      "outputs": [
        {
          "output_type": "execute_result",
          "data": {
            "text/plain": [
              "array([[1., 0.],\n",
              "       [0., 1.],\n",
              "       [1., 0.],\n",
              "       ...,\n",
              "       [0., 1.],\n",
              "       [0., 1.],\n",
              "       [1., 0.]])"
            ]
          },
          "metadata": {},
          "execution_count": 944
        }
      ]
    },
    {
      "cell_type": "markdown",
      "source": [
        "##### **Evaluate Model**"
      ],
      "metadata": {
        "id": "XCG8N7KczSKk"
      }
    },
    {
      "cell_type": "code",
      "source": [
        "eval_model(y_pred=y_pred_dt, y_test=y_test, model_name=model_name, features_id=features_id)"
      ],
      "metadata": {
        "colab": {
          "base_uri": "https://localhost:8080/",
          "height": 603
        },
        "id": "hGGNN6werI6x",
        "outputId": "7e514aed-809a-4617-e937-f8839d98833d"
      },
      "execution_count": null,
      "outputs": [
        {
          "output_type": "execute_result",
          "data": {
            "text/plain": [
              "          Model Name     Class    TPR    FPR Precision Recall     F1 ROC Area  \\\n",
              "1  Decision Tree: F5         0   0.96  0.089      0.92  0.911  0.915    0.935   \n",
              "2  Decision Tree: F5         1  0.911   0.04     0.955   0.96  0.958    0.935   \n",
              "3  Decision Tree: F5  weighted  0.941  0.073     0.943  0.944  0.943    0.935   \n",
              "\n",
              "     MCC  \n",
              "1  0.873  \n",
              "2  0.873  \n",
              "3  0.873  "
            ],
            "text/html": [
              "\n",
              "  <div id=\"df-48ee3ed2-c071-4f72-8815-bcb1eb127283\">\n",
              "    <div class=\"colab-df-container\">\n",
              "      <div>\n",
              "<style scoped>\n",
              "    .dataframe tbody tr th:only-of-type {\n",
              "        vertical-align: middle;\n",
              "    }\n",
              "\n",
              "    .dataframe tbody tr th {\n",
              "        vertical-align: top;\n",
              "    }\n",
              "\n",
              "    .dataframe thead th {\n",
              "        text-align: right;\n",
              "    }\n",
              "</style>\n",
              "<table border=\"1\" class=\"dataframe\">\n",
              "  <thead>\n",
              "    <tr style=\"text-align: right;\">\n",
              "      <th></th>\n",
              "      <th>Model Name</th>\n",
              "      <th>Class</th>\n",
              "      <th>TPR</th>\n",
              "      <th>FPR</th>\n",
              "      <th>Precision</th>\n",
              "      <th>Recall</th>\n",
              "      <th>F1</th>\n",
              "      <th>ROC Area</th>\n",
              "      <th>MCC</th>\n",
              "    </tr>\n",
              "  </thead>\n",
              "  <tbody>\n",
              "    <tr>\n",
              "      <th>1</th>\n",
              "      <td>Decision Tree: F5</td>\n",
              "      <td>0</td>\n",
              "      <td>0.96</td>\n",
              "      <td>0.089</td>\n",
              "      <td>0.92</td>\n",
              "      <td>0.911</td>\n",
              "      <td>0.915</td>\n",
              "      <td>0.935</td>\n",
              "      <td>0.873</td>\n",
              "    </tr>\n",
              "    <tr>\n",
              "      <th>2</th>\n",
              "      <td>Decision Tree: F5</td>\n",
              "      <td>1</td>\n",
              "      <td>0.911</td>\n",
              "      <td>0.04</td>\n",
              "      <td>0.955</td>\n",
              "      <td>0.96</td>\n",
              "      <td>0.958</td>\n",
              "      <td>0.935</td>\n",
              "      <td>0.873</td>\n",
              "    </tr>\n",
              "    <tr>\n",
              "      <th>3</th>\n",
              "      <td>Decision Tree: F5</td>\n",
              "      <td>weighted</td>\n",
              "      <td>0.941</td>\n",
              "      <td>0.073</td>\n",
              "      <td>0.943</td>\n",
              "      <td>0.944</td>\n",
              "      <td>0.943</td>\n",
              "      <td>0.935</td>\n",
              "      <td>0.873</td>\n",
              "    </tr>\n",
              "  </tbody>\n",
              "</table>\n",
              "</div>\n",
              "      <button class=\"colab-df-convert\" onclick=\"convertToInteractive('df-48ee3ed2-c071-4f72-8815-bcb1eb127283')\"\n",
              "              title=\"Convert this dataframe to an interactive table.\"\n",
              "              style=\"display:none;\">\n",
              "        \n",
              "  <svg xmlns=\"http://www.w3.org/2000/svg\" height=\"24px\"viewBox=\"0 0 24 24\"\n",
              "       width=\"24px\">\n",
              "    <path d=\"M0 0h24v24H0V0z\" fill=\"none\"/>\n",
              "    <path d=\"M18.56 5.44l.94 2.06.94-2.06 2.06-.94-2.06-.94-.94-2.06-.94 2.06-2.06.94zm-11 1L8.5 8.5l.94-2.06 2.06-.94-2.06-.94L8.5 2.5l-.94 2.06-2.06.94zm10 10l.94 2.06.94-2.06 2.06-.94-2.06-.94-.94-2.06-.94 2.06-2.06.94z\"/><path d=\"M17.41 7.96l-1.37-1.37c-.4-.4-.92-.59-1.43-.59-.52 0-1.04.2-1.43.59L10.3 9.45l-7.72 7.72c-.78.78-.78 2.05 0 2.83L4 21.41c.39.39.9.59 1.41.59.51 0 1.02-.2 1.41-.59l7.78-7.78 2.81-2.81c.8-.78.8-2.07 0-2.86zM5.41 20L4 18.59l7.72-7.72 1.47 1.35L5.41 20z\"/>\n",
              "  </svg>\n",
              "      </button>\n",
              "      \n",
              "  <style>\n",
              "    .colab-df-container {\n",
              "      display:flex;\n",
              "      flex-wrap:wrap;\n",
              "      gap: 12px;\n",
              "    }\n",
              "\n",
              "    .colab-df-convert {\n",
              "      background-color: #E8F0FE;\n",
              "      border: none;\n",
              "      border-radius: 50%;\n",
              "      cursor: pointer;\n",
              "      display: none;\n",
              "      fill: #1967D2;\n",
              "      height: 32px;\n",
              "      padding: 0 0 0 0;\n",
              "      width: 32px;\n",
              "    }\n",
              "\n",
              "    .colab-df-convert:hover {\n",
              "      background-color: #E2EBFA;\n",
              "      box-shadow: 0px 1px 2px rgba(60, 64, 67, 0.3), 0px 1px 3px 1px rgba(60, 64, 67, 0.15);\n",
              "      fill: #174EA6;\n",
              "    }\n",
              "\n",
              "    [theme=dark] .colab-df-convert {\n",
              "      background-color: #3B4455;\n",
              "      fill: #D2E3FC;\n",
              "    }\n",
              "\n",
              "    [theme=dark] .colab-df-convert:hover {\n",
              "      background-color: #434B5C;\n",
              "      box-shadow: 0px 1px 3px 1px rgba(0, 0, 0, 0.15);\n",
              "      filter: drop-shadow(0px 1px 2px rgba(0, 0, 0, 0.3));\n",
              "      fill: #FFFFFF;\n",
              "    }\n",
              "  </style>\n",
              "\n",
              "      <script>\n",
              "        const buttonEl =\n",
              "          document.querySelector('#df-48ee3ed2-c071-4f72-8815-bcb1eb127283 button.colab-df-convert');\n",
              "        buttonEl.style.display =\n",
              "          google.colab.kernel.accessAllowed ? 'block' : 'none';\n",
              "\n",
              "        async function convertToInteractive(key) {\n",
              "          const element = document.querySelector('#df-48ee3ed2-c071-4f72-8815-bcb1eb127283');\n",
              "          const dataTable =\n",
              "            await google.colab.kernel.invokeFunction('convertToInteractive',\n",
              "                                                     [key], {});\n",
              "          if (!dataTable) return;\n",
              "\n",
              "          const docLinkHtml = 'Like what you see? Visit the ' +\n",
              "            '<a target=\"_blank\" href=https://colab.research.google.com/notebooks/data_table.ipynb>data table notebook</a>'\n",
              "            + ' to learn more about interactive tables.';\n",
              "          element.innerHTML = '';\n",
              "          dataTable['output_type'] = 'display_data';\n",
              "          await google.colab.output.renderOutput(dataTable, element);\n",
              "          const docLink = document.createElement('div');\n",
              "          docLink.innerHTML = docLinkHtml;\n",
              "          element.appendChild(docLink);\n",
              "        }\n",
              "      </script>\n",
              "    </div>\n",
              "  </div>\n",
              "  "
            ]
          },
          "metadata": {},
          "execution_count": 945
        },
        {
          "output_type": "display_data",
          "data": {
            "text/plain": [
              "<Figure size 640x480 with 1 Axes>"
            ],
            "image/png": "[encoded data removed]"
          },
          "metadata": {}
        }
      ]
    },
    {
      "cell_type": "code",
      "source": [
        "model_curves(y_probs=y_prob_dt)"
      ],
      "metadata": {
        "colab": {
          "base_uri": "https://localhost:8080/",
          "height": 388
        },
        "id": "_n52rFZ-vSd_",
        "outputId": "98357dc1-23de-45d3-eda6-4a01492bce8a"
      },
      "execution_count": null,
      "outputs": [
        {
          "output_type": "display_data",
          "data": {
            "text/plain": [
              "<Figure size 900x400 with 2 Axes>"
            ],
            "image/png": "[encoded data removed]"
          },
          "metadata": {}
        }
      ]
    },
    {
      "cell_type": "code",
      "source": [
        "# Store predictions\n",
        "model_pred_dict_update(y_pred=y_pred_dt, y_probs=y_prob_dt,\n",
        "                       model_name=model_name, features_id=features_id)\n",
        "model_predictions\n",
        "\n",
        "# Remove item from dict\n",
        "# model_predictions.pop(\"Decision Tree: F2\")\n"
      ],
      "metadata": {
        "id": "VSZCCAxNDOtg"
      },
      "execution_count": null,
      "outputs": []
    },
    {
      "cell_type": "markdown",
      "source": [
        "#### **Model 2: Gaussian Naive Bayes**"
      ],
      "metadata": {
        "id": "N6-_1SJUheXs"
      }
    },
    {
      "cell_type": "markdown",
      "source": [
        "##### **Model Description**"
      ],
      "metadata": {
        "id": "3JIISHmWv95K"
      }
    },
    {
      "cell_type": "markdown",
      "source": [
        "**Naive Bayes Classifiers** are built on Bayesian classification methods.\n",
        "These rely on Bayes's theorem, which is an equation describing the relationship of conditional probabilities of statistical quantities.\n",
        "In our Bayesian classification model, we're interested in finding the probability of label `havarth` given some observed features, which we can write as $P(\\text{havarth}~|~{\\rm features})$.\n",
        "Bayes's theorem tells us how to express this in terms of quantities we can compute more directly:\n",
        "\n",
        "<br>\n",
        "\n",
        "$$\n",
        "P(h~|~f) = \\frac{P(f~|~h)P(h)}{P(f)}\n",
        "$$\n",
        "\n",
        "<br>\n",
        "\n",
        "Where $f$ are our features, and $h$ is the class attribute `havarth` which in our dataset can be either:\n",
        "1: Yes, the individual has been told they have arthritis.\n",
        "\n",
        "> **Yes (1):** the individual has been told they have arthritis.\n",
        ">\n",
        "> **No (2):** the individual has not been told they have arthritis.\n",
        "\n",
        "If we are trying to decide between our two labels then one way to make this decision is to compute the ratio of the posterior probabilities for each label:\n",
        "\n",
        "<br>\n",
        "\n",
        "$$\n",
        "\\frac{P(Yes~|~f)}{P(No~|~f)} = \\frac{P(f~|~Yes)}{P(f~|~No)}\\frac{P(Yes)}{P(No)}\n",
        "$$\n",
        "\n",
        "<br>\n",
        "\n",
        "All we need now is some model by which we can compute $P(f~|~h)$ for each label. For this we will use `sklearn.naive_bayes.GaussianNB()`."
      ],
      "metadata": {
        "id": "yTP4asQooado"
      }
    },
    {
      "cell_type": "markdown",
      "source": [
        "The `sklearn.naive_bayes.GaussianNB()` algorithm uses:\n",
        "\n",
        "<br>\n",
        "\n",
        "$P(x_i \\mid y) = \\frac{1}{\\sqrt{2\\pi\\sigma^2_y}} \\exp\\left(-\\frac{(x_i - \\mu_y)^2}{2\\sigma^2_y}\\right)$\n",
        "\n",
        "<br>\n",
        "\n",
        "to compute an estimation of $P(f~|~h)$, where $\\sigma_y$ and $\\mu_y$ are estimated using maximum likelihood."
      ],
      "metadata": {
        "id": "1FIMW67Bt2gK"
      }
    },
    {
      "cell_type": "markdown",
      "source": [
        "##### **Build Model**"
      ],
      "metadata": {
        "id": "rJVW76xyvWom"
      }
    },
    {
      "cell_type": "code",
      "source": [
        "model_name = \"Gaussian NB\"\n",
        "\n",
        "# Build\n",
        "gnb_model = GaussianNB()\n",
        "\n",
        "# Fit\n",
        "gnb_model.fit(X_train, y_train)"
      ],
      "metadata": {
        "colab": {
          "base_uri": "https://localhost:8080/",
          "height": 75
        },
        "id": "SeZnai3_TkL1",
        "outputId": "555c2a04-e063-4c8c-e822-041aa766e822"
      },
      "execution_count": null,
      "outputs": [
        {
          "output_type": "execute_result",
          "data": {
            "text/plain": [
              "GaussianNB()"
            ],
            "text/html": [
              "<style>#sk-container-id-60 {color: black;background-color: white;}#sk-container-id-60 pre{padding: 0;}#sk-container-id-60 div.sk-toggleable {background-color: white;}#sk-container-id-60 label.sk-toggleable__label {cursor: pointer;display: block;width: 100%;margin-bottom: 0;padding: 0.3em;box-sizing: border-box;text-align: center;}#sk-container-id-60 label.sk-toggleable__label-arrow:before {content: \"▸\";float: left;margin-right: 0.25em;color: #696969;}#sk-container-id-60 label.sk-toggleable__label-arrow:hover:before {color: black;}#sk-container-id-60 div.sk-estimator:hover label.sk-toggleable__label-arrow:before {color: black;}#sk-container-id-60 div.sk-toggleable__content {max-height: 0;max-width: 0;overflow: hidden;text-align: left;background-color: #f0f8ff;}#sk-container-id-60 div.sk-toggleable__content pre {margin: 0.2em;color: black;border-radius: 0.25em;background-color: #f0f8ff;}#sk-container-id-60 input.sk-toggleable__control:checked~div.sk-toggleable__content {max-height: 200px;max-width: 100%;overflow: auto;}#sk-container-id-60 input.sk-toggleable__control:checked~label.sk-toggleable__label-arrow:before {content: \"▾\";}#sk-container-id-60 div.sk-estimator input.sk-toggleable__control:checked~label.sk-toggleable__label {background-color: #d4ebff;}#sk-container-id-60 div.sk-label input.sk-toggleable__control:checked~label.sk-toggleable__label {background-color: #d4ebff;}#sk-container-id-60 input.sk-hidden--visually {border: 0;clip: rect(1px 1px 1px 1px);clip: rect(1px, 1px, 1px, 1px);height: 1px;margin: -1px;overflow: hidden;padding: 0;position: absolute;width: 1px;}#sk-container-id-60 div.sk-estimator {font-family: monospace;background-color: #f0f8ff;border: 1px dotted black;border-radius: 0.25em;box-sizing: border-box;margin-bottom: 0.5em;}#sk-container-id-60 div.sk-estimator:hover {background-color: #d4ebff;}#sk-container-id-60 div.sk-parallel-item::after {content: \"\";width: 100%;border-bottom: 1px solid gray;flex-grow: 1;}#sk-container-id-60 div.sk-label:hover label.sk-toggleable__label {background-color: #d4ebff;}#sk-container-id-60 div.sk-serial::before {content: \"\";position: absolute;border-left: 1px solid gray;box-sizing: border-box;top: 0;bottom: 0;left: 50%;z-index: 0;}#sk-container-id-60 div.sk-serial {display: flex;flex-direction: column;align-items: center;background-color: white;padding-right: 0.2em;padding-left: 0.2em;position: relative;}#sk-container-id-60 div.sk-item {position: relative;z-index: 1;}#sk-container-id-60 div.sk-parallel {display: flex;align-items: stretch;justify-content: center;background-color: white;position: relative;}#sk-container-id-60 div.sk-item::before, #sk-container-id-60 div.sk-parallel-item::before {content: \"\";position: absolute;border-left: 1px solid gray;box-sizing: border-box;top: 0;bottom: 0;left: 50%;z-index: -1;}#sk-container-id-60 div.sk-parallel-item {display: flex;flex-direction: column;z-index: 1;position: relative;background-color: white;}#sk-container-id-60 div.sk-parallel-item:first-child::after {align-self: flex-end;width: 50%;}#sk-container-id-60 div.sk-parallel-item:last-child::after {align-self: flex-start;width: 50%;}#sk-container-id-60 div.sk-parallel-item:only-child::after {width: 0;}#sk-container-id-60 div.sk-dashed-wrapped {border: 1px dashed gray;margin: 0 0.4em 0.5em 0.4em;box-sizing: border-box;padding-bottom: 0.4em;background-color: white;}#sk-container-id-60 div.sk-label label {font-family: monospace;font-weight: bold;display: inline-block;line-height: 1.2em;}#sk-container-id-60 div.sk-label-container {text-align: center;}#sk-container-id-60 div.sk-container {/* jupyter's `normalize.less` sets `[hidden] { display: none; }` but bootstrap.min.css set `[hidden] { display: none !important; }` so we also need the `!important` here to be able to override the default hidden behavior on the sphinx rendered scikit-learn.org. See: https://github.com/scikit-learn/scikit-learn/issues/21755 */display: inline-block !important;position: relative;}#sk-container-id-60 div.sk-text-repr-fallback {display: none;}</style><div id=\"sk-container-id-60\" class=\"sk-top-container\"><div class=\"sk-text-repr-fallback\"><pre>GaussianNB()</pre><b>In a Jupyter environment, please rerun this cell to show the HTML representation or trust the notebook. <br />On GitHub, the HTML representation is unable to render, please try loading this page with nbviewer.org.</b></div><div class=\"sk-container\" hidden><div class=\"sk-item\"><div class=\"sk-estimator sk-toggleable\"><input class=\"sk-toggleable__control sk-hidden--visually\" id=\"sk-estimator-id-60\" type=\"checkbox\" checked><label for=\"sk-estimator-id-60\" class=\"sk-toggleable__label sk-toggleable__label-arrow\">GaussianNB</label><div class=\"sk-toggleable__content\"><pre>GaussianNB()</pre></div></div></div></div></div>"
            ]
          },
          "metadata": {},
          "execution_count": 978
        }
      ]
    },
    {
      "cell_type": "code",
      "source": [
        "# Predict\n",
        "y_pred_nb = gnb_model.predict(X_test); y_pred_nb\n",
        "\n",
        "# Prediction Probabilities\n",
        "y_prob_nb = gnb_model.predict_proba(X_test); y_prob_nb"
      ],
      "metadata": {
        "colab": {
          "base_uri": "https://localhost:8080/"
        },
        "id": "w0SNlVJ5sJP8",
        "outputId": "e7a22ac4-267a-475e-e8d2-a49ff27b42d2"
      },
      "execution_count": null,
      "outputs": [
        {
          "output_type": "execute_result",
          "data": {
            "text/plain": [
              "array([[0.78206735, 0.21793265],\n",
              "       [0.0919587 , 0.9080413 ],\n",
              "       [0.9871433 , 0.0128567 ],\n",
              "       ...,\n",
              "       [0.004967  , 0.995033  ],\n",
              "       [0.00795716, 0.99204284],\n",
              "       [0.96721929, 0.03278071]])"
            ]
          },
          "metadata": {},
          "execution_count": 979
        }
      ]
    },
    {
      "cell_type": "markdown",
      "source": [
        "##### **Evaluate Model**"
      ],
      "metadata": {
        "id": "bwbkidofwO1Q"
      }
    },
    {
      "cell_type": "code",
      "source": [
        "# accuracy\n",
        "print(\"Naive Bayes Score: \", gnb_model.score(X_test, y_test))\n",
        "\n",
        "eval_model(y_pred=y_pred_nb, model_name=model_name, features_id=features_id)"
      ],
      "metadata": {
        "colab": {
          "base_uri": "https://localhost:8080/",
          "height": 593
        },
        "id": "YtJH8YG3wT9S",
        "outputId": "e926fe77-9ff0-4857-b902-72d152617728"
      },
      "execution_count": null,
      "outputs": [
        {
          "output_type": "stream",
          "name": "stdout",
          "text": [
            "Naive Bayes Score:  0.8735830458353869\n"
          ]
        },
        {
          "output_type": "execute_result",
          "data": {
            "text/plain": [
              "        Model Name     Class    TPR    FPR Precision Recall     F1 ROC Area  \\\n",
              "1  Gaussian NB: F5         0  0.923  0.226     0.835  0.774  0.804    0.849   \n",
              "2  Gaussian NB: F5         1  0.774  0.077     0.891  0.923  0.907    0.849   \n",
              "3  Gaussian NB: F5  weighted  0.856  0.175     0.872  0.874  0.872    0.849   \n",
              "\n",
              "     MCC  \n",
              "1  0.712  \n",
              "2  0.712  \n",
              "3  0.712  "
            ],
            "text/html": [
              "\n",
              "  <div id=\"df-d9fdd06a-5a38-4a58-97f9-9cbe35f8c0d6\">\n",
              "    <div class=\"colab-df-container\">\n",
              "      <div>\n",
              "<style scoped>\n",
              "    .dataframe tbody tr th:only-of-type {\n",
              "        vertical-align: middle;\n",
              "    }\n",
              "\n",
              "    .dataframe tbody tr th {\n",
              "        vertical-align: top;\n",
              "    }\n",
              "\n",
              "    .dataframe thead th {\n",
              "        text-align: right;\n",
              "    }\n",
              "</style>\n",
              "<table border=\"1\" class=\"dataframe\">\n",
              "  <thead>\n",
              "    <tr style=\"text-align: right;\">\n",
              "      <th></th>\n",
              "      <th>Model Name</th>\n",
              "      <th>Class</th>\n",
              "      <th>TPR</th>\n",
              "      <th>FPR</th>\n",
              "      <th>Precision</th>\n",
              "      <th>Recall</th>\n",
              "      <th>F1</th>\n",
              "      <th>ROC Area</th>\n",
              "      <th>MCC</th>\n",
              "    </tr>\n",
              "  </thead>\n",
              "  <tbody>\n",
              "    <tr>\n",
              "      <th>1</th>\n",
              "      <td>Gaussian NB: F5</td>\n",
              "      <td>0</td>\n",
              "      <td>0.923</td>\n",
              "      <td>0.226</td>\n",
              "      <td>0.835</td>\n",
              "      <td>0.774</td>\n",
              "      <td>0.804</td>\n",
              "      <td>0.849</td>\n",
              "      <td>0.712</td>\n",
              "    </tr>\n",
              "    <tr>\n",
              "      <th>2</th>\n",
              "      <td>Gaussian NB: F5</td>\n",
              "      <td>1</td>\n",
              "      <td>0.774</td>\n",
              "      <td>0.077</td>\n",
              "      <td>0.891</td>\n",
              "      <td>0.923</td>\n",
              "      <td>0.907</td>\n",
              "      <td>0.849</td>\n",
              "      <td>0.712</td>\n",
              "    </tr>\n",
              "    <tr>\n",
              "      <th>3</th>\n",
              "      <td>Gaussian NB: F5</td>\n",
              "      <td>weighted</td>\n",
              "      <td>0.856</td>\n",
              "      <td>0.175</td>\n",
              "      <td>0.872</td>\n",
              "      <td>0.874</td>\n",
              "      <td>0.872</td>\n",
              "      <td>0.849</td>\n",
              "      <td>0.712</td>\n",
              "    </tr>\n",
              "  </tbody>\n",
              "</table>\n",
              "</div>\n",
              "      <button class=\"colab-df-convert\" onclick=\"convertToInteractive('df-d9fdd06a-5a38-4a58-97f9-9cbe35f8c0d6')\"\n",
              "              title=\"Convert this dataframe to an interactive table.\"\n",
              "              style=\"display:none;\">\n",
              "        \n",
              "  <svg xmlns=\"http://www.w3.org/2000/svg\" height=\"24px\"viewBox=\"0 0 24 24\"\n",
              "       width=\"24px\">\n",
              "    <path d=\"M0 0h24v24H0V0z\" fill=\"none\"/>\n",
              "    <path d=\"M18.56 5.44l.94 2.06.94-2.06 2.06-.94-2.06-.94-.94-2.06-.94 2.06-2.06.94zm-11 1L8.5 8.5l.94-2.06 2.06-.94-2.06-.94L8.5 2.5l-.94 2.06-2.06.94zm10 10l.94 2.06.94-2.06 2.06-.94-2.06-.94-.94-2.06-.94 2.06-2.06.94z\"/><path d=\"M17.41 7.96l-1.37-1.37c-.4-.4-.92-.59-1.43-.59-.52 0-1.04.2-1.43.59L10.3 9.45l-7.72 7.72c-.78.78-.78 2.05 0 2.83L4 21.41c.39.39.9.59 1.41.59.51 0 1.02-.2 1.41-.59l7.78-7.78 2.81-2.81c.8-.78.8-2.07 0-2.86zM5.41 20L4 18.59l7.72-7.72 1.47 1.35L5.41 20z\"/>\n",
              "  </svg>\n",
              "      </button>\n",
              "      \n",
              "  <style>\n",
              "    .colab-df-container {\n",
              "      display:flex;\n",
              "      flex-wrap:wrap;\n",
              "      gap: 12px;\n",
              "    }\n",
              "\n",
              "    .colab-df-convert {\n",
              "      background-color: #E8F0FE;\n",
              "      border: none;\n",
              "      border-radius: 50%;\n",
              "      cursor: pointer;\n",
              "      display: none;\n",
              "      fill: #1967D2;\n",
              "      height: 32px;\n",
              "      padding: 0 0 0 0;\n",
              "      width: 32px;\n",
              "    }\n",
              "\n",
              "    .colab-df-convert:hover {\n",
              "      background-color: #E2EBFA;\n",
              "      box-shadow: 0px 1px 2px rgba(60, 64, 67, 0.3), 0px 1px 3px 1px rgba(60, 64, 67, 0.15);\n",
              "      fill: #174EA6;\n",
              "    }\n",
              "\n",
              "    [theme=dark] .colab-df-convert {\n",
              "      background-color: #3B4455;\n",
              "      fill: #D2E3FC;\n",
              "    }\n",
              "\n",
              "    [theme=dark] .colab-df-convert:hover {\n",
              "      background-color: #434B5C;\n",
              "      box-shadow: 0px 1px 3px 1px rgba(0, 0, 0, 0.15);\n",
              "      filter: drop-shadow(0px 1px 2px rgba(0, 0, 0, 0.3));\n",
              "      fill: #FFFFFF;\n",
              "    }\n",
              "  </style>\n",
              "\n",
              "      <script>\n",
              "        const buttonEl =\n",
              "          document.querySelector('#df-d9fdd06a-5a38-4a58-97f9-9cbe35f8c0d6 button.colab-df-convert');\n",
              "        buttonEl.style.display =\n",
              "          google.colab.kernel.accessAllowed ? 'block' : 'none';\n",
              "\n",
              "        async function convertToInteractive(key) {\n",
              "          const element = document.querySelector('#df-d9fdd06a-5a38-4a58-97f9-9cbe35f8c0d6');\n",
              "          const dataTable =\n",
              "            await google.colab.kernel.invokeFunction('convertToInteractive',\n",
              "                                                     [key], {});\n",
              "          if (!dataTable) return;\n",
              "\n",
              "          const docLinkHtml = 'Like what you see? Visit the ' +\n",
              "            '<a target=\"_blank\" href=https://colab.research.google.com/notebooks/data_table.ipynb>data table notebook</a>'\n",
              "            + ' to learn more about interactive tables.';\n",
              "          element.innerHTML = '';\n",
              "          dataTable['output_type'] = 'display_data';\n",
              "          await google.colab.output.renderOutput(dataTable, element);\n",
              "          const docLink = document.createElement('div');\n",
              "          docLink.innerHTML = docLinkHtml;\n",
              "          element.appendChild(docLink);\n",
              "        }\n",
              "      </script>\n",
              "    </div>\n",
              "  </div>\n",
              "  "
            ]
          },
          "metadata": {},
          "execution_count": 980
        },
        {
          "output_type": "display_data",
          "data": {
            "text/plain": [
              "<Figure size 640x480 with 1 Axes>"
            ],
            "image/png": "[encoded data removed]"
          },
          "metadata": {}
        }
      ]
    },
    {
      "cell_type": "code",
      "source": [
        "model_curves(y_probs=y_prob_nb)"
      ],
      "metadata": {
        "colab": {
          "base_uri": "https://localhost:8080/",
          "height": 388
        },
        "id": "hkr85fpDwEe4",
        "outputId": "5d7e3f36-62f0-4db2-84bc-a096234748c0"
      },
      "execution_count": null,
      "outputs": [
        {
          "output_type": "display_data",
          "data": {
            "text/plain": [
              "<Figure size 900x400 with 2 Axes>"
            ],
            "image/png": "[encoded data removed]"
          },
          "metadata": {}
        }
      ]
    },
    {
      "cell_type": "code",
      "source": [
        "# Store predictions\n",
        "model_pred_dict_update(y_pred=y_pred_nb, y_probs=y_prob_nb,\n",
        "                       model_name=model_name, features_id=features_id)\n",
        "\n",
        "model_predictions"
      ],
      "metadata": {
        "id": "AteK8naxMueF"
      },
      "execution_count": null,
      "outputs": []
    },
    {
      "cell_type": "markdown",
      "source": [
        "#### **Model 3: KNN**"
      ],
      "metadata": {
        "id": "8t_szua6Enk9"
      }
    },
    {
      "cell_type": "markdown",
      "source": [
        "##### Build Model"
      ],
      "metadata": {
        "id": "a5nM_FNA2qR6"
      }
    },
    {
      "cell_type": "code",
      "source": [
        "model_name = \"KNN\"\n",
        "\n",
        "# Finding ideal k\n",
        "k_values = [i for i in range (1,31)]\n",
        "scores = []\n",
        "for k in k_values:\n",
        "    knn = KNeighborsClassifier(n_neighbors=k)\n",
        "    score = cross_val_score(knn, X, y, cv=5) # doesn't test on the same train/test split each time, thats why you use X and y.\n",
        "    scores.append(np.mean(score))\n",
        "# cv = Determines the cross-validation splitting strategy.\n",
        "\n",
        "\n",
        "\n",
        "sns.lineplot(x = k_values, y = scores, marker = 'o')\n",
        "plt.xlabel(\"K Values\")\n",
        "plt.ylabel(\"Accuracy Score\")"
      ],
      "metadata": {
        "colab": {
          "base_uri": "https://localhost:8080/",
          "height": 467
        },
        "id": "l6JZifIxNguC",
        "outputId": "51ad8cc5-0b16-492a-d4b3-5817505107ad"
      },
      "execution_count": null,
      "outputs": [
        {
          "output_type": "execute_result",
          "data": {
            "text/plain": [
              "Text(0, 0.5, 'Accuracy Score')"
            ]
          },
          "metadata": {},
          "execution_count": 86
        },
        {
          "output_type": "display_data",
          "data": {
            "text/plain": [
              "<Figure size 640x480 with 1 Axes>"
            ],
            "image/png": "[encoded data removed]"
          },
          "metadata": {}
        }
      ]
    },
    {
      "cell_type": "code",
      "source": [
        "# Build Model\n",
        "knn = KNeighborsClassifier(n_neighbors=6)\n",
        "knn.fit(X_train, y_train)"
      ],
      "metadata": {
        "colab": {
          "base_uri": "https://localhost:8080/",
          "height": 75
        },
        "id": "eOlV_mjPJf-D",
        "outputId": "53b5df99-2ae0-404d-94ba-010edd281fd6"
      },
      "execution_count": null,
      "outputs": [
        {
          "output_type": "execute_result",
          "data": {
            "text/plain": [
              "KNeighborsClassifier(n_neighbors=6)"
            ],
            "text/html": [
              "<style>#sk-container-id-3 {color: black;background-color: white;}#sk-container-id-3 pre{padding: 0;}#sk-container-id-3 div.sk-toggleable {background-color: white;}#sk-container-id-3 label.sk-toggleable__label {cursor: pointer;display: block;width: 100%;margin-bottom: 0;padding: 0.3em;box-sizing: border-box;text-align: center;}#sk-container-id-3 label.sk-toggleable__label-arrow:before {content: \"▸\";float: left;margin-right: 0.25em;color: #696969;}#sk-container-id-3 label.sk-toggleable__label-arrow:hover:before {color: black;}#sk-container-id-3 div.sk-estimator:hover label.sk-toggleable__label-arrow:before {color: black;}#sk-container-id-3 div.sk-toggleable__content {max-height: 0;max-width: 0;overflow: hidden;text-align: left;background-color: #f0f8ff;}#sk-container-id-3 div.sk-toggleable__content pre {margin: 0.2em;color: black;border-radius: 0.25em;background-color: #f0f8ff;}#sk-container-id-3 input.sk-toggleable__control:checked~div.sk-toggleable__content {max-height: 200px;max-width: 100%;overflow: auto;}#sk-container-id-3 input.sk-toggleable__control:checked~label.sk-toggleable__label-arrow:before {content: \"▾\";}#sk-container-id-3 div.sk-estimator input.sk-toggleable__control:checked~label.sk-toggleable__label {background-color: #d4ebff;}#sk-container-id-3 div.sk-label input.sk-toggleable__control:checked~label.sk-toggleable__label {background-color: #d4ebff;}#sk-container-id-3 input.sk-hidden--visually {border: 0;clip: rect(1px 1px 1px 1px);clip: rect(1px, 1px, 1px, 1px);height: 1px;margin: -1px;overflow: hidden;padding: 0;position: absolute;width: 1px;}#sk-container-id-3 div.sk-estimator {font-family: monospace;background-color: #f0f8ff;border: 1px dotted black;border-radius: 0.25em;box-sizing: border-box;margin-bottom: 0.5em;}#sk-container-id-3 div.sk-estimator:hover {background-color: #d4ebff;}#sk-container-id-3 div.sk-parallel-item::after {content: \"\";width: 100%;border-bottom: 1px solid gray;flex-grow: 1;}#sk-container-id-3 div.sk-label:hover label.sk-toggleable__label {background-color: #d4ebff;}#sk-container-id-3 div.sk-serial::before {content: \"\";position: absolute;border-left: 1px solid gray;box-sizing: border-box;top: 0;bottom: 0;left: 50%;z-index: 0;}#sk-container-id-3 div.sk-serial {display: flex;flex-direction: column;align-items: center;background-color: white;padding-right: 0.2em;padding-left: 0.2em;position: relative;}#sk-container-id-3 div.sk-item {position: relative;z-index: 1;}#sk-container-id-3 div.sk-parallel {display: flex;align-items: stretch;justify-content: center;background-color: white;position: relative;}#sk-container-id-3 div.sk-item::before, #sk-container-id-3 div.sk-parallel-item::before {content: \"\";position: absolute;border-left: 1px solid gray;box-sizing: border-box;top: 0;bottom: 0;left: 50%;z-index: -1;}#sk-container-id-3 div.sk-parallel-item {display: flex;flex-direction: column;z-index: 1;position: relative;background-color: white;}#sk-container-id-3 div.sk-parallel-item:first-child::after {align-self: flex-end;width: 50%;}#sk-container-id-3 div.sk-parallel-item:last-child::after {align-self: flex-start;width: 50%;}#sk-container-id-3 div.sk-parallel-item:only-child::after {width: 0;}#sk-container-id-3 div.sk-dashed-wrapped {border: 1px dashed gray;margin: 0 0.4em 0.5em 0.4em;box-sizing: border-box;padding-bottom: 0.4em;background-color: white;}#sk-container-id-3 div.sk-label label {font-family: monospace;font-weight: bold;display: inline-block;line-height: 1.2em;}#sk-container-id-3 div.sk-label-container {text-align: center;}#sk-container-id-3 div.sk-container {/* jupyter's `normalize.less` sets `[hidden] { display: none; }` but bootstrap.min.css set `[hidden] { display: none !important; }` so we also need the `!important` here to be able to override the default hidden behavior on the sphinx rendered scikit-learn.org. See: https://github.com/scikit-learn/scikit-learn/issues/21755 */display: inline-block !important;position: relative;}#sk-container-id-3 div.sk-text-repr-fallback {display: none;}</style><div id=\"sk-container-id-3\" class=\"sk-top-container\"><div class=\"sk-text-repr-fallback\"><pre>KNeighborsClassifier(n_neighbors=6)</pre><b>In a Jupyter environment, please rerun this cell to show the HTML representation or trust the notebook. <br />On GitHub, the HTML representation is unable to render, please try loading this page with nbviewer.org.</b></div><div class=\"sk-container\" hidden><div class=\"sk-item\"><div class=\"sk-estimator sk-toggleable\"><input class=\"sk-toggleable__control sk-hidden--visually\" id=\"sk-estimator-id-3\" type=\"checkbox\" checked><label for=\"sk-estimator-id-3\" class=\"sk-toggleable__label sk-toggleable__label-arrow\">KNeighborsClassifier</label><div class=\"sk-toggleable__content\"><pre>KNeighborsClassifier(n_neighbors=6)</pre></div></div></div></div></div>"
            ]
          },
          "metadata": {},
          "execution_count": 87
        }
      ]
    },
    {
      "cell_type": "code",
      "source": [
        "# predictions\n",
        "y_pred_knn = knn.predict(X_test); y_pred_knn\n",
        "# probabilities\n",
        "y_prob_knn = knn.predict_proba(X_test); y_prob_knn"
      ],
      "metadata": {
        "colab": {
          "base_uri": "https://localhost:8080/"
        },
        "id": "Aogv0cuwI1_W",
        "outputId": "a85f0b15-427c-4c36-81f2-18d82086b025"
      },
      "execution_count": null,
      "outputs": [
        {
          "output_type": "execute_result",
          "data": {
            "text/plain": [
              "array([[1.        , 0.        ],\n",
              "       [0.33333333, 0.66666667],\n",
              "       [1.        , 0.        ],\n",
              "       ...,\n",
              "       [0.        , 1.        ],\n",
              "       [0.        , 1.        ],\n",
              "       [1.        , 0.        ]])"
            ]
          },
          "metadata": {},
          "execution_count": 88
        }
      ]
    },
    {
      "cell_type": "markdown",
      "source": [
        "##### Evaluate Model"
      ],
      "metadata": {
        "id": "Y7u_SpL623wS"
      }
    },
    {
      "cell_type": "code",
      "source": [
        "accuracy = accuracy_score(y_test, y_pred_knn)\n",
        "print(\"KNN Model Accuracy:\", accuracy)\n",
        "\n",
        "eval_model(y_pred=y_pred_knn, model_name=model_name, features_id=features_id)\n"
      ],
      "metadata": {
        "colab": {
          "base_uri": "https://localhost:8080/",
          "height": 593
        },
        "id": "P_JAyZeNQNZy",
        "outputId": "785c320d-0b91-4525-ea3e-d8c142d11295"
      },
      "execution_count": null,
      "outputs": [
        {
          "output_type": "stream",
          "name": "stdout",
          "text": [
            "KNN Model Accuracy: 0.9672252341054707\n"
          ]
        },
        {
          "output_type": "execute_result",
          "data": {
            "text/plain": [
              "  Model Name     Class    TPR    FPR Precision Recall     F1 ROC Area    MCC\n",
              "1    KNN: F5         0  0.953  0.026     0.949  0.953  0.951    0.964  0.926\n",
              "2    KNN: F5         1  0.974  0.047     0.976  0.974  0.975    0.964  0.926\n",
              "3    KNN: F5  weighted  0.968   0.04     0.967  0.967  0.967    0.964  0.926"
            ],
            "text/html": [
              "\n",
              "  <div id=\"df-9f623577-d36c-4f8f-9eb8-3c44ff55442c\">\n",
              "    <div class=\"colab-df-container\">\n",
              "      <div>\n",
              "<style scoped>\n",
              "    .dataframe tbody tr th:only-of-type {\n",
              "        vertical-align: middle;\n",
              "    }\n",
              "\n",
              "    .dataframe tbody tr th {\n",
              "        vertical-align: top;\n",
              "    }\n",
              "\n",
              "    .dataframe thead th {\n",
              "        text-align: right;\n",
              "    }\n",
              "</style>\n",
              "<table border=\"1\" class=\"dataframe\">\n",
              "  <thead>\n",
              "    <tr style=\"text-align: right;\">\n",
              "      <th></th>\n",
              "      <th>Model Name</th>\n",
              "      <th>Class</th>\n",
              "      <th>TPR</th>\n",
              "      <th>FPR</th>\n",
              "      <th>Precision</th>\n",
              "      <th>Recall</th>\n",
              "      <th>F1</th>\n",
              "      <th>ROC Area</th>\n",
              "      <th>MCC</th>\n",
              "    </tr>\n",
              "  </thead>\n",
              "  <tbody>\n",
              "    <tr>\n",
              "      <th>1</th>\n",
              "      <td>KNN: F5</td>\n",
              "      <td>0</td>\n",
              "      <td>0.953</td>\n",
              "      <td>0.026</td>\n",
              "      <td>0.949</td>\n",
              "      <td>0.953</td>\n",
              "      <td>0.951</td>\n",
              "      <td>0.964</td>\n",
              "      <td>0.926</td>\n",
              "    </tr>\n",
              "    <tr>\n",
              "      <th>2</th>\n",
              "      <td>KNN: F5</td>\n",
              "      <td>1</td>\n",
              "      <td>0.974</td>\n",
              "      <td>0.047</td>\n",
              "      <td>0.976</td>\n",
              "      <td>0.974</td>\n",
              "      <td>0.975</td>\n",
              "      <td>0.964</td>\n",
              "      <td>0.926</td>\n",
              "    </tr>\n",
              "    <tr>\n",
              "      <th>3</th>\n",
              "      <td>KNN: F5</td>\n",
              "      <td>weighted</td>\n",
              "      <td>0.968</td>\n",
              "      <td>0.04</td>\n",
              "      <td>0.967</td>\n",
              "      <td>0.967</td>\n",
              "      <td>0.967</td>\n",
              "      <td>0.964</td>\n",
              "      <td>0.926</td>\n",
              "    </tr>\n",
              "  </tbody>\n",
              "</table>\n",
              "</div>\n",
              "      <button class=\"colab-df-convert\" onclick=\"convertToInteractive('df-9f623577-d36c-4f8f-9eb8-3c44ff55442c')\"\n",
              "              title=\"Convert this dataframe to an interactive table.\"\n",
              "              style=\"display:none;\">\n",
              "        \n",
              "  <svg xmlns=\"http://www.w3.org/2000/svg\" height=\"24px\"viewBox=\"0 0 24 24\"\n",
              "       width=\"24px\">\n",
              "    <path d=\"M0 0h24v24H0V0z\" fill=\"none\"/>\n",
              "    <path d=\"M18.56 5.44l.94 2.06.94-2.06 2.06-.94-2.06-.94-.94-2.06-.94 2.06-2.06.94zm-11 1L8.5 8.5l.94-2.06 2.06-.94-2.06-.94L8.5 2.5l-.94 2.06-2.06.94zm10 10l.94 2.06.94-2.06 2.06-.94-2.06-.94-.94-2.06-.94 2.06-2.06.94z\"/><path d=\"M17.41 7.96l-1.37-1.37c-.4-.4-.92-.59-1.43-.59-.52 0-1.04.2-1.43.59L10.3 9.45l-7.72 7.72c-.78.78-.78 2.05 0 2.83L4 21.41c.39.39.9.59 1.41.59.51 0 1.02-.2 1.41-.59l7.78-7.78 2.81-2.81c.8-.78.8-2.07 0-2.86zM5.41 20L4 18.59l7.72-7.72 1.47 1.35L5.41 20z\"/>\n",
              "  </svg>\n",
              "      </button>\n",
              "      \n",
              "  <style>\n",
              "    .colab-df-container {\n",
              "      display:flex;\n",
              "      flex-wrap:wrap;\n",
              "      gap: 12px;\n",
              "    }\n",
              "\n",
              "    .colab-df-convert {\n",
              "      background-color: #E8F0FE;\n",
              "      border: none;\n",
              "      border-radius: 50%;\n",
              "      cursor: pointer;\n",
              "      display: none;\n",
              "      fill: #1967D2;\n",
              "      height: 32px;\n",
              "      padding: 0 0 0 0;\n",
              "      width: 32px;\n",
              "    }\n",
              "\n",
              "    .colab-df-convert:hover {\n",
              "      background-color: #E2EBFA;\n",
              "      box-shadow: 0px 1px 2px rgba(60, 64, 67, 0.3), 0px 1px 3px 1px rgba(60, 64, 67, 0.15);\n",
              "      fill: #174EA6;\n",
              "    }\n",
              "\n",
              "    [theme=dark] .colab-df-convert {\n",
              "      background-color: #3B4455;\n",
              "      fill: #D2E3FC;\n",
              "    }\n",
              "\n",
              "    [theme=dark] .colab-df-convert:hover {\n",
              "      background-color: #434B5C;\n",
              "      box-shadow: 0px 1px 3px 1px rgba(0, 0, 0, 0.15);\n",
              "      filter: drop-shadow(0px 1px 2px rgba(0, 0, 0, 0.3));\n",
              "      fill: #FFFFFF;\n",
              "    }\n",
              "  </style>\n",
              "\n",
              "      <script>\n",
              "        const buttonEl =\n",
              "          document.querySelector('#df-9f623577-d36c-4f8f-9eb8-3c44ff55442c button.colab-df-convert');\n",
              "        buttonEl.style.display =\n",
              "          google.colab.kernel.accessAllowed ? 'block' : 'none';\n",
              "\n",
              "        async function convertToInteractive(key) {\n",
              "          const element = document.querySelector('#df-9f623577-d36c-4f8f-9eb8-3c44ff55442c');\n",
              "          const dataTable =\n",
              "            await google.colab.kernel.invokeFunction('convertToInteractive',\n",
              "                                                     [key], {});\n",
              "          if (!dataTable) return;\n",
              "\n",
              "          const docLinkHtml = 'Like what you see? Visit the ' +\n",
              "            '<a target=\"_blank\" href=https://colab.research.google.com/notebooks/data_table.ipynb>data table notebook</a>'\n",
              "            + ' to learn more about interactive tables.';\n",
              "          element.innerHTML = '';\n",
              "          dataTable['output_type'] = 'display_data';\n",
              "          await google.colab.output.renderOutput(dataTable, element);\n",
              "          const docLink = document.createElement('div');\n",
              "          docLink.innerHTML = docLinkHtml;\n",
              "          element.appendChild(docLink);\n",
              "        }\n",
              "      </script>\n",
              "    </div>\n",
              "  </div>\n",
              "  "
            ]
          },
          "metadata": {},
          "execution_count": 89
        },
        {
          "output_type": "display_data",
          "data": {
            "text/plain": [
              "<Figure size 640x480 with 1 Axes>"
            ],
            "image/png": "[encoded data removed]"
          },
          "metadata": {}
        }
      ]
    },
    {
      "cell_type": "code",
      "source": [
        "model_curves(y_probs=y_prob_knn)"
      ],
      "metadata": {
        "colab": {
          "base_uri": "https://localhost:8080/",
          "height": 294
        },
        "id": "EPtasJyoJjSR",
        "outputId": "04bd7807-0389-4175-b392-8060d4b69746"
      },
      "execution_count": null,
      "outputs": [
        {
          "output_type": "error",
          "ename": "NameError",
          "evalue": "ignored",
          "traceback": [
            "\u001b[0;31m---------------------------------------------------------------------------\u001b[0m",
            "\u001b[0;31mNameError\u001b[0m                                 Traceback (most recent call last)",
            "\u001b[0;32m<ipython-input-90-0451b4cd673e>\u001b[0m in \u001b[0;36m<cell line: 1>\u001b[0;34m()\u001b[0m\n\u001b[0;32m----> 1\u001b[0;31m \u001b[0mmodel_curves\u001b[0m\u001b[0;34m(\u001b[0m\u001b[0my_probs\u001b[0m\u001b[0;34m=\u001b[0m\u001b[0my_prob_knn\u001b[0m\u001b[0;34m)\u001b[0m\u001b[0;34m\u001b[0m\u001b[0;34m\u001b[0m\u001b[0m\n\u001b[0m",
            "\u001b[0;32m<ipython-input-62-eea2c869c1f6>\u001b[0m in \u001b[0;36mmodel_curves\u001b[0;34m(y_probs, y_test, model_type)\u001b[0m\n\u001b[1;32m      8\u001b[0m \u001b[0;34m\u001b[0m\u001b[0m\n\u001b[1;32m      9\u001b[0m   \u001b[0;31m# ROC\u001b[0m\u001b[0;34m\u001b[0m\u001b[0;34m\u001b[0m\u001b[0m\n\u001b[0;32m---> 10\u001b[0;31m   \u001b[0mfpr\u001b[0m\u001b[0;34m,\u001b[0m \u001b[0mtpr\u001b[0m\u001b[0;34m,\u001b[0m \u001b[0m_\u001b[0m \u001b[0;34m=\u001b[0m \u001b[0mroc_curve\u001b[0m\u001b[0;34m(\u001b[0m\u001b[0my_test\u001b[0m\u001b[0;34m,\u001b[0m \u001b[0mpos_probs\u001b[0m\u001b[0;34m,\u001b[0m \u001b[0mpos_label\u001b[0m\u001b[0;34m=\u001b[0m\u001b[0;36m1\u001b[0m\u001b[0;34m)\u001b[0m\u001b[0;34m\u001b[0m\u001b[0;34m\u001b[0m\u001b[0m\n\u001b[0m\u001b[1;32m     11\u001b[0m   \u001b[0mroc_display\u001b[0m \u001b[0;34m=\u001b[0m \u001b[0mRocCurveDisplay\u001b[0m\u001b[0;34m(\u001b[0m\u001b[0mfpr\u001b[0m\u001b[0;34m=\u001b[0m\u001b[0mfpr\u001b[0m\u001b[0;34m,\u001b[0m \u001b[0mtpr\u001b[0m\u001b[0;34m=\u001b[0m\u001b[0mtpr\u001b[0m\u001b[0;34m)\u001b[0m \u001b[0;31m#.plot()\u001b[0m\u001b[0;34m\u001b[0m\u001b[0;34m\u001b[0m\u001b[0m\n\u001b[1;32m     12\u001b[0m \u001b[0;34m\u001b[0m\u001b[0m\n",
            "\u001b[0;31mNameError\u001b[0m: name 'roc_curve' is not defined"
          ]
        }
      ]
    },
    {
      "cell_type": "code",
      "source": [
        "# Store predictions\n",
        "model_pred_dict_update(y_pred=y_pred_knn, y_probs=y_prob_knn,\n",
        "                       model_name=model_name, features_id=features_id)\n",
        "\n",
        "model_predictions"
      ],
      "metadata": {
        "id": "_ThakhfdIlLk"
      },
      "execution_count": null,
      "outputs": []
    },
    {
      "cell_type": "markdown",
      "source": [
        "#### **Model 4: Neural Network**"
      ],
      "metadata": {
        "id": "zMvg-YkfTkp8"
      }
    },
    {
      "cell_type": "markdown",
      "source": [
        "##### Sequential Neural Network"
      ],
      "metadata": {
        "id": "kZokNP1uEXdH"
      }
    },
    {
      "cell_type": "code",
      "source": [
        "# build model\n",
        "model_name = \"Sequential NN\"\n",
        "\n",
        "# parameters\n",
        "n_features = len(X_train.columns)\n",
        "\n",
        "# hyperparameters\n",
        "hidden_units=100\n",
        "learning_rate=0.01\n",
        "hidden_layer_act='tanh'\n",
        "output_layer_act='sigmoid'\n",
        "n_epochs=100\n",
        "\n",
        "# initialize model\n",
        "model = Sequential()\n",
        "# add layers to the model\n",
        "model.add(Dense(hidden_units, input_dim=n_features, activation=hidden_layer_act))\n",
        "model.add(Dense(hidden_units, activation=hidden_layer_act))\n",
        "model.add(Dense(1, activation=output_layer_act))\n",
        "\n",
        "# define model optimizer\n",
        "sgd=optimizers.SGD(learning_rate=learning_rate)\n",
        "# compile model\n",
        "model.compile(loss='binary_crossentropy',optimizer=sgd, metrics=['acc'])"
      ],
      "metadata": {
        "id": "FrJaB29Kgt7W"
      },
      "execution_count": null,
      "outputs": []
    },
    {
      "cell_type": "code",
      "source": [
        "# fit model\n",
        "model_nn = model.fit(X_train, y_train, epochs=n_epochs, batch_size=len(X_train),  verbose=2)"
      ],
      "metadata": {
        "id": "UfkjkDmFhB72"
      },
      "execution_count": null,
      "outputs": []
    },
    {
      "cell_type": "code",
      "source": [
        "# Positive Class Probability\n",
        "y_prob_nn = model.predict(X_test)\n",
        "\n",
        "# Outputs a probability, since binary. Round to get our class.\n",
        "y_pred_nn = [int(round(x[0])) for x in y_prob_nn]"
      ],
      "metadata": {
        "colab": {
          "base_uri": "https://localhost:8080/"
        },
        "id": "HrFSnBQbigGl",
        "outputId": "d331adb3-50e6-4e65-955d-27e4b18c703e"
      },
      "execution_count": null,
      "outputs": [
        {
          "output_type": "stream",
          "name": "stdout",
          "text": [
            "127/127 [==============================] - 0s 1ms/step\n"
          ]
        }
      ]
    },
    {
      "cell_type": "markdown",
      "source": [
        "###### **Evaluate Model**"
      ],
      "metadata": {
        "id": "sYD_I-LvIMkT"
      }
    },
    {
      "cell_type": "code",
      "source": [
        "eval_model(y_pred=y_pred_nn, model_name=model_name, features_id=features_id)"
      ],
      "metadata": {
        "colab": {
          "base_uri": "https://localhost:8080/",
          "height": 603
        },
        "id": "gtOoxBG_IL4Z",
        "outputId": "c8dcfc10-a199-4dc8-dfb0-1092a590edc8"
      },
      "execution_count": null,
      "outputs": [
        {
          "output_type": "execute_result",
          "data": {
            "text/plain": [
              "          Model Name     Class    TPR    FPR Precision Recall     F1 ROC Area  \\\n",
              "1  Sequential NN: F5         0  0.943  0.296     0.862  0.704  0.775    0.824   \n",
              "2  Sequential NN: F5         1  0.704  0.057     0.864  0.943  0.902    0.824   \n",
              "3  Sequential NN: F5  weighted  0.828  0.217     0.863  0.863   0.86    0.824   \n",
              "\n",
              "     MCC  \n",
              "1  0.686  \n",
              "2  0.686  \n",
              "3  0.686  "
            ],
            "text/html": [
              "\n",
              "  <div id=\"df-e41eee86-6e2a-4611-8a39-607f06fbdb16\">\n",
              "    <div class=\"colab-df-container\">\n",
              "      <div>\n",
              "<style scoped>\n",
              "    .dataframe tbody tr th:only-of-type {\n",
              "        vertical-align: middle;\n",
              "    }\n",
              "\n",
              "    .dataframe tbody tr th {\n",
              "        vertical-align: top;\n",
              "    }\n",
              "\n",
              "    .dataframe thead th {\n",
              "        text-align: right;\n",
              "    }\n",
              "</style>\n",
              "<table border=\"1\" class=\"dataframe\">\n",
              "  <thead>\n",
              "    <tr style=\"text-align: right;\">\n",
              "      <th></th>\n",
              "      <th>Model Name</th>\n",
              "      <th>Class</th>\n",
              "      <th>TPR</th>\n",
              "      <th>FPR</th>\n",
              "      <th>Precision</th>\n",
              "      <th>Recall</th>\n",
              "      <th>F1</th>\n",
              "      <th>ROC Area</th>\n",
              "      <th>MCC</th>\n",
              "    </tr>\n",
              "  </thead>\n",
              "  <tbody>\n",
              "    <tr>\n",
              "      <th>1</th>\n",
              "      <td>Sequential NN: F5</td>\n",
              "      <td>0</td>\n",
              "      <td>0.943</td>\n",
              "      <td>0.296</td>\n",
              "      <td>0.862</td>\n",
              "      <td>0.704</td>\n",
              "      <td>0.775</td>\n",
              "      <td>0.824</td>\n",
              "      <td>0.686</td>\n",
              "    </tr>\n",
              "    <tr>\n",
              "      <th>2</th>\n",
              "      <td>Sequential NN: F5</td>\n",
              "      <td>1</td>\n",
              "      <td>0.704</td>\n",
              "      <td>0.057</td>\n",
              "      <td>0.864</td>\n",
              "      <td>0.943</td>\n",
              "      <td>0.902</td>\n",
              "      <td>0.824</td>\n",
              "      <td>0.686</td>\n",
              "    </tr>\n",
              "    <tr>\n",
              "      <th>3</th>\n",
              "      <td>Sequential NN: F5</td>\n",
              "      <td>weighted</td>\n",
              "      <td>0.828</td>\n",
              "      <td>0.217</td>\n",
              "      <td>0.863</td>\n",
              "      <td>0.863</td>\n",
              "      <td>0.86</td>\n",
              "      <td>0.824</td>\n",
              "      <td>0.686</td>\n",
              "    </tr>\n",
              "  </tbody>\n",
              "</table>\n",
              "</div>\n",
              "      <button class=\"colab-df-convert\" onclick=\"convertToInteractive('df-e41eee86-6e2a-4611-8a39-607f06fbdb16')\"\n",
              "              title=\"Convert this dataframe to an interactive table.\"\n",
              "              style=\"display:none;\">\n",
              "        \n",
              "  <svg xmlns=\"http://www.w3.org/2000/svg\" height=\"24px\"viewBox=\"0 0 24 24\"\n",
              "       width=\"24px\">\n",
              "    <path d=\"M0 0h24v24H0V0z\" fill=\"none\"/>\n",
              "    <path d=\"M18.56 5.44l.94 2.06.94-2.06 2.06-.94-2.06-.94-.94-2.06-.94 2.06-2.06.94zm-11 1L8.5 8.5l.94-2.06 2.06-.94-2.06-.94L8.5 2.5l-.94 2.06-2.06.94zm10 10l.94 2.06.94-2.06 2.06-.94-2.06-.94-.94-2.06-.94 2.06-2.06.94z\"/><path d=\"M17.41 7.96l-1.37-1.37c-.4-.4-.92-.59-1.43-.59-.52 0-1.04.2-1.43.59L10.3 9.45l-7.72 7.72c-.78.78-.78 2.05 0 2.83L4 21.41c.39.39.9.59 1.41.59.51 0 1.02-.2 1.41-.59l7.78-7.78 2.81-2.81c.8-.78.8-2.07 0-2.86zM5.41 20L4 18.59l7.72-7.72 1.47 1.35L5.41 20z\"/>\n",
              "  </svg>\n",
              "      </button>\n",
              "      \n",
              "  <style>\n",
              "    .colab-df-container {\n",
              "      display:flex;\n",
              "      flex-wrap:wrap;\n",
              "      gap: 12px;\n",
              "    }\n",
              "\n",
              "    .colab-df-convert {\n",
              "      background-color: #E8F0FE;\n",
              "      border: none;\n",
              "      border-radius: 50%;\n",
              "      cursor: pointer;\n",
              "      display: none;\n",
              "      fill: #1967D2;\n",
              "      height: 32px;\n",
              "      padding: 0 0 0 0;\n",
              "      width: 32px;\n",
              "    }\n",
              "\n",
              "    .colab-df-convert:hover {\n",
              "      background-color: #E2EBFA;\n",
              "      box-shadow: 0px 1px 2px rgba(60, 64, 67, 0.3), 0px 1px 3px 1px rgba(60, 64, 67, 0.15);\n",
              "      fill: #174EA6;\n",
              "    }\n",
              "\n",
              "    [theme=dark] .colab-df-convert {\n",
              "      background-color: #3B4455;\n",
              "      fill: #D2E3FC;\n",
              "    }\n",
              "\n",
              "    [theme=dark] .colab-df-convert:hover {\n",
              "      background-color: #434B5C;\n",
              "      box-shadow: 0px 1px 3px 1px rgba(0, 0, 0, 0.15);\n",
              "      filter: drop-shadow(0px 1px 2px rgba(0, 0, 0, 0.3));\n",
              "      fill: #FFFFFF;\n",
              "    }\n",
              "  </style>\n",
              "\n",
              "      <script>\n",
              "        const buttonEl =\n",
              "          document.querySelector('#df-e41eee86-6e2a-4611-8a39-607f06fbdb16 button.colab-df-convert');\n",
              "        buttonEl.style.display =\n",
              "          google.colab.kernel.accessAllowed ? 'block' : 'none';\n",
              "\n",
              "        async function convertToInteractive(key) {\n",
              "          const element = document.querySelector('#df-e41eee86-6e2a-4611-8a39-607f06fbdb16');\n",
              "          const dataTable =\n",
              "            await google.colab.kernel.invokeFunction('convertToInteractive',\n",
              "                                                     [key], {});\n",
              "          if (!dataTable) return;\n",
              "\n",
              "          const docLinkHtml = 'Like what you see? Visit the ' +\n",
              "            '<a target=\"_blank\" href=https://colab.research.google.com/notebooks/data_table.ipynb>data table notebook</a>'\n",
              "            + ' to learn more about interactive tables.';\n",
              "          element.innerHTML = '';\n",
              "          dataTable['output_type'] = 'display_data';\n",
              "          await google.colab.output.renderOutput(dataTable, element);\n",
              "          const docLink = document.createElement('div');\n",
              "          docLink.innerHTML = docLinkHtml;\n",
              "          element.appendChild(docLink);\n",
              "        }\n",
              "      </script>\n",
              "    </div>\n",
              "  </div>\n",
              "  "
            ]
          },
          "metadata": {},
          "execution_count": 964
        },
        {
          "output_type": "display_data",
          "data": {
            "text/plain": [
              "<Figure size 640x480 with 1 Axes>"
            ],
            "image/png": "[encoded data removed]"
          },
          "metadata": {}
        }
      ]
    },
    {
      "cell_type": "code",
      "source": [
        "model_curves(y_probs=y_prob_nn, model_type=\"NN\")"
      ],
      "metadata": {
        "colab": {
          "base_uri": "https://localhost:8080/",
          "height": 388
        },
        "id": "FxT09bNWM6WD",
        "outputId": "c6a192b1-54c6-43df-9523-741ff60f6181"
      },
      "execution_count": null,
      "outputs": [
        {
          "output_type": "display_data",
          "data": {
            "text/plain": [
              "<Figure size 900x400 with 2 Axes>"
            ],
            "image/png": "[encoded data removed]"
          },
          "metadata": {}
        }
      ]
    },
    {
      "cell_type": "code",
      "source": [
        "# Store predictions\n",
        "model_pred_dict_update(y_pred=y_pred_nb, y_probs=y_prob_nb,\n",
        "                       model_name=model_name, features_id=features_id)\n",
        "\n",
        "model_predictions"
      ],
      "metadata": {
        "id": "TkIO0HElMzrY"
      },
      "execution_count": null,
      "outputs": []
    },
    {
      "cell_type": "markdown",
      "source": [
        "The loss function used for binary classification problems is determined by the data format as well. When dealing with a single target vector of 0s and 1s, you should use BinaryCrossentropy as the loss function.\n",
        "\n",
        "https://www.enthought.com/blog/neural-network-output-layer/"
      ],
      "metadata": {
        "id": "B7CTpmzbjq5F"
      }
    },
    {
      "cell_type": "markdown",
      "source": [
        "##### Regression Neural Network"
      ],
      "metadata": {
        "id": "OHLRSv4PEjdZ"
      }
    },
    {
      "cell_type": "code",
      "source": [
        "model_name = \"MLP NN\"\n",
        "\n",
        "# build model\n",
        "nn_mlp_model = MLPClassifier(alpha=1e-05, hidden_layer_sizes=(25, 2),\n",
        "              solver='lbfgs')"
      ],
      "metadata": {
        "id": "5QgSOP-eAs1J"
      },
      "execution_count": null,
      "outputs": []
    },
    {
      "cell_type": "code",
      "source": [
        "# fit model\n",
        "nn_mlp_model.fit(X_train, y_train)"
      ],
      "metadata": {
        "colab": {
          "base_uri": "https://localhost:8080/",
          "height": 184
        },
        "id": "baWC_GOgBGH2",
        "outputId": "a655bfcb-b63f-45e7-e469-a3e5044aa8d1"
      },
      "execution_count": null,
      "outputs": [
        {
          "output_type": "stream",
          "name": "stderr",
          "text": [
            "/usr/local/lib/python3.10/dist-packages/sklearn/neural_network/_multilayer_perceptron.py:541: ConvergenceWarning: lbfgs failed to converge (status=1):\n",
            "STOP: TOTAL NO. of ITERATIONS REACHED LIMIT.\n",
            "\n",
            "Increase the number of iterations (max_iter) or scale the data as shown in:\n",
            "    https://scikit-learn.org/stable/modules/preprocessing.html\n"
          ]
        },
        {
          "output_type": "execute_result",
          "data": {
            "text/plain": [
              "MLPClassifier(alpha=1e-05, hidden_layer_sizes=(25, 2), solver='lbfgs')"
            ],
            "text/html": [
              "<style>#sk-container-id-58 {color: black;background-color: white;}#sk-container-id-58 pre{padding: 0;}#sk-container-id-58 div.sk-toggleable {background-color: white;}#sk-container-id-58 label.sk-toggleable__label {cursor: pointer;display: block;width: 100%;margin-bottom: 0;padding: 0.3em;box-sizing: border-box;text-align: center;}#sk-container-id-58 label.sk-toggleable__label-arrow:before {content: \"▸\";float: left;margin-right: 0.25em;color: #696969;}#sk-container-id-58 label.sk-toggleable__label-arrow:hover:before {color: black;}#sk-container-id-58 div.sk-estimator:hover label.sk-toggleable__label-arrow:before {color: black;}#sk-container-id-58 div.sk-toggleable__content {max-height: 0;max-width: 0;overflow: hidden;text-align: left;background-color: #f0f8ff;}#sk-container-id-58 div.sk-toggleable__content pre {margin: 0.2em;color: black;border-radius: 0.25em;background-color: #f0f8ff;}#sk-container-id-58 input.sk-toggleable__control:checked~div.sk-toggleable__content {max-height: 200px;max-width: 100%;overflow: auto;}#sk-container-id-58 input.sk-toggleable__control:checked~label.sk-toggleable__label-arrow:before {content: \"▾\";}#sk-container-id-58 div.sk-estimator input.sk-toggleable__control:checked~label.sk-toggleable__label {background-color: #d4ebff;}#sk-container-id-58 div.sk-label input.sk-toggleable__control:checked~label.sk-toggleable__label {background-color: #d4ebff;}#sk-container-id-58 input.sk-hidden--visually {border: 0;clip: rect(1px 1px 1px 1px);clip: rect(1px, 1px, 1px, 1px);height: 1px;margin: -1px;overflow: hidden;padding: 0;position: absolute;width: 1px;}#sk-container-id-58 div.sk-estimator {font-family: monospace;background-color: #f0f8ff;border: 1px dotted black;border-radius: 0.25em;box-sizing: border-box;margin-bottom: 0.5em;}#sk-container-id-58 div.sk-estimator:hover {background-color: #d4ebff;}#sk-container-id-58 div.sk-parallel-item::after {content: \"\";width: 100%;border-bottom: 1px solid gray;flex-grow: 1;}#sk-container-id-58 div.sk-label:hover label.sk-toggleable__label {background-color: #d4ebff;}#sk-container-id-58 div.sk-serial::before {content: \"\";position: absolute;border-left: 1px solid gray;box-sizing: border-box;top: 0;bottom: 0;left: 50%;z-index: 0;}#sk-container-id-58 div.sk-serial {display: flex;flex-direction: column;align-items: center;background-color: white;padding-right: 0.2em;padding-left: 0.2em;position: relative;}#sk-container-id-58 div.sk-item {position: relative;z-index: 1;}#sk-container-id-58 div.sk-parallel {display: flex;align-items: stretch;justify-content: center;background-color: white;position: relative;}#sk-container-id-58 div.sk-item::before, #sk-container-id-58 div.sk-parallel-item::before {content: \"\";position: absolute;border-left: 1px solid gray;box-sizing: border-box;top: 0;bottom: 0;left: 50%;z-index: -1;}#sk-container-id-58 div.sk-parallel-item {display: flex;flex-direction: column;z-index: 1;position: relative;background-color: white;}#sk-container-id-58 div.sk-parallel-item:first-child::after {align-self: flex-end;width: 50%;}#sk-container-id-58 div.sk-parallel-item:last-child::after {align-self: flex-start;width: 50%;}#sk-container-id-58 div.sk-parallel-item:only-child::after {width: 0;}#sk-container-id-58 div.sk-dashed-wrapped {border: 1px dashed gray;margin: 0 0.4em 0.5em 0.4em;box-sizing: border-box;padding-bottom: 0.4em;background-color: white;}#sk-container-id-58 div.sk-label label {font-family: monospace;font-weight: bold;display: inline-block;line-height: 1.2em;}#sk-container-id-58 div.sk-label-container {text-align: center;}#sk-container-id-58 div.sk-container {/* jupyter's `normalize.less` sets `[hidden] { display: none; }` but bootstrap.min.css set `[hidden] { display: none !important; }` so we also need the `!important` here to be able to override the default hidden behavior on the sphinx rendered scikit-learn.org. See: https://github.com/scikit-learn/scikit-learn/issues/21755 */display: inline-block !important;position: relative;}#sk-container-id-58 div.sk-text-repr-fallback {display: none;}</style><div id=\"sk-container-id-58\" class=\"sk-top-container\"><div class=\"sk-text-repr-fallback\"><pre>MLPClassifier(alpha=1e-05, hidden_layer_sizes=(25, 2), solver=&#x27;lbfgs&#x27;)</pre><b>In a Jupyter environment, please rerun this cell to show the HTML representation or trust the notebook. <br />On GitHub, the HTML representation is unable to render, please try loading this page with nbviewer.org.</b></div><div class=\"sk-container\" hidden><div class=\"sk-item\"><div class=\"sk-estimator sk-toggleable\"><input class=\"sk-toggleable__control sk-hidden--visually\" id=\"sk-estimator-id-58\" type=\"checkbox\" checked><label for=\"sk-estimator-id-58\" class=\"sk-toggleable__label sk-toggleable__label-arrow\">MLPClassifier</label><div class=\"sk-toggleable__content\"><pre>MLPClassifier(alpha=1e-05, hidden_layer_sizes=(25, 2), solver=&#x27;lbfgs&#x27;)</pre></div></div></div></div></div>"
            ]
          },
          "metadata": {},
          "execution_count": 968
        }
      ]
    },
    {
      "cell_type": "code",
      "source": [
        "# Positive Class Probabilities\n",
        "y_pred_nn_mlp = nn_mlp_model.predict(X_test); y_pred_nn_mlp\n",
        "\n",
        "# Prediction Probabilities\n",
        "y_prob_nn_mlp = gnb_model.predict_proba(X_test); y_prob_nn_mlp"
      ],
      "metadata": {
        "colab": {
          "base_uri": "https://localhost:8080/"
        },
        "id": "4U5lF8NJQRjO",
        "outputId": "799ab4e2-e507-4bb4-b513-f44f10819832"
      },
      "execution_count": null,
      "outputs": [
        {
          "output_type": "execute_result",
          "data": {
            "text/plain": [
              "array([[0.78206735, 0.21793265],\n",
              "       [0.0919587 , 0.9080413 ],\n",
              "       [0.9871433 , 0.0128567 ],\n",
              "       ...,\n",
              "       [0.004967  , 0.995033  ],\n",
              "       [0.00795716, 0.99204284],\n",
              "       [0.96721929, 0.03278071]])"
            ]
          },
          "metadata": {},
          "execution_count": 969
        }
      ]
    },
    {
      "cell_type": "code",
      "source": [
        "eval_model(y_pred=y_pred_nn_mlp, model_name=model_name, features_id=features_id)"
      ],
      "metadata": {
        "colab": {
          "base_uri": "https://localhost:8080/",
          "height": 603
        },
        "id": "IL40VfujQTie",
        "outputId": "eaefac67-8d60-425f-95d0-7bc6ac91c9aa"
      },
      "execution_count": null,
      "outputs": [
        {
          "output_type": "execute_result",
          "data": {
            "text/plain": [
              "   Model Name     Class    TPR    FPR Precision Recall     F1 ROC Area    MCC\n",
              "1  MLP NN: F5         0  0.982  0.055     0.964  0.945  0.955    0.964  0.932\n",
              "2  MLP NN: F5         1  0.945  0.018     0.973  0.982  0.978    0.964  0.932\n",
              "3  MLP NN: F5  weighted  0.964  0.042      0.97   0.97   0.97    0.964  0.932"
            ],
            "text/html": [
              "\n",
              "  <div id=\"df-659fe4bb-20a5-4b67-92c2-1ea292b7df91\">\n",
              "    <div class=\"colab-df-container\">\n",
              "      <div>\n",
              "<style scoped>\n",
              "    .dataframe tbody tr th:only-of-type {\n",
              "        vertical-align: middle;\n",
              "    }\n",
              "\n",
              "    .dataframe tbody tr th {\n",
              "        vertical-align: top;\n",
              "    }\n",
              "\n",
              "    .dataframe thead th {\n",
              "        text-align: right;\n",
              "    }\n",
              "</style>\n",
              "<table border=\"1\" class=\"dataframe\">\n",
              "  <thead>\n",
              "    <tr style=\"text-align: right;\">\n",
              "      <th></th>\n",
              "      <th>Model Name</th>\n",
              "      <th>Class</th>\n",
              "      <th>TPR</th>\n",
              "      <th>FPR</th>\n",
              "      <th>Precision</th>\n",
              "      <th>Recall</th>\n",
              "      <th>F1</th>\n",
              "      <th>ROC Area</th>\n",
              "      <th>MCC</th>\n",
              "    </tr>\n",
              "  </thead>\n",
              "  <tbody>\n",
              "    <tr>\n",
              "      <th>1</th>\n",
              "      <td>MLP NN: F5</td>\n",
              "      <td>0</td>\n",
              "      <td>0.982</td>\n",
              "      <td>0.055</td>\n",
              "      <td>0.964</td>\n",
              "      <td>0.945</td>\n",
              "      <td>0.955</td>\n",
              "      <td>0.964</td>\n",
              "      <td>0.932</td>\n",
              "    </tr>\n",
              "    <tr>\n",
              "      <th>2</th>\n",
              "      <td>MLP NN: F5</td>\n",
              "      <td>1</td>\n",
              "      <td>0.945</td>\n",
              "      <td>0.018</td>\n",
              "      <td>0.973</td>\n",
              "      <td>0.982</td>\n",
              "      <td>0.978</td>\n",
              "      <td>0.964</td>\n",
              "      <td>0.932</td>\n",
              "    </tr>\n",
              "    <tr>\n",
              "      <th>3</th>\n",
              "      <td>MLP NN: F5</td>\n",
              "      <td>weighted</td>\n",
              "      <td>0.964</td>\n",
              "      <td>0.042</td>\n",
              "      <td>0.97</td>\n",
              "      <td>0.97</td>\n",
              "      <td>0.97</td>\n",
              "      <td>0.964</td>\n",
              "      <td>0.932</td>\n",
              "    </tr>\n",
              "  </tbody>\n",
              "</table>\n",
              "</div>\n",
              "      <button class=\"colab-df-convert\" onclick=\"convertToInteractive('df-659fe4bb-20a5-4b67-92c2-1ea292b7df91')\"\n",
              "              title=\"Convert this dataframe to an interactive table.\"\n",
              "              style=\"display:none;\">\n",
              "        \n",
              "  <svg xmlns=\"http://www.w3.org/2000/svg\" height=\"24px\"viewBox=\"0 0 24 24\"\n",
              "       width=\"24px\">\n",
              "    <path d=\"M0 0h24v24H0V0z\" fill=\"none\"/>\n",
              "    <path d=\"M18.56 5.44l.94 2.06.94-2.06 2.06-.94-2.06-.94-.94-2.06-.94 2.06-2.06.94zm-11 1L8.5 8.5l.94-2.06 2.06-.94-2.06-.94L8.5 2.5l-.94 2.06-2.06.94zm10 10l.94 2.06.94-2.06 2.06-.94-2.06-.94-.94-2.06-.94 2.06-2.06.94z\"/><path d=\"M17.41 7.96l-1.37-1.37c-.4-.4-.92-.59-1.43-.59-.52 0-1.04.2-1.43.59L10.3 9.45l-7.72 7.72c-.78.78-.78 2.05 0 2.83L4 21.41c.39.39.9.59 1.41.59.51 0 1.02-.2 1.41-.59l7.78-7.78 2.81-2.81c.8-.78.8-2.07 0-2.86zM5.41 20L4 18.59l7.72-7.72 1.47 1.35L5.41 20z\"/>\n",
              "  </svg>\n",
              "      </button>\n",
              "      \n",
              "  <style>\n",
              "    .colab-df-container {\n",
              "      display:flex;\n",
              "      flex-wrap:wrap;\n",
              "      gap: 12px;\n",
              "    }\n",
              "\n",
              "    .colab-df-convert {\n",
              "      background-color: #E8F0FE;\n",
              "      border: none;\n",
              "      border-radius: 50%;\n",
              "      cursor: pointer;\n",
              "      display: none;\n",
              "      fill: #1967D2;\n",
              "      height: 32px;\n",
              "      padding: 0 0 0 0;\n",
              "      width: 32px;\n",
              "    }\n",
              "\n",
              "    .colab-df-convert:hover {\n",
              "      background-color: #E2EBFA;\n",
              "      box-shadow: 0px 1px 2px rgba(60, 64, 67, 0.3), 0px 1px 3px 1px rgba(60, 64, 67, 0.15);\n",
              "      fill: #174EA6;\n",
              "    }\n",
              "\n",
              "    [theme=dark] .colab-df-convert {\n",
              "      background-color: #3B4455;\n",
              "      fill: #D2E3FC;\n",
              "    }\n",
              "\n",
              "    [theme=dark] .colab-df-convert:hover {\n",
              "      background-color: #434B5C;\n",
              "      box-shadow: 0px 1px 3px 1px rgba(0, 0, 0, 0.15);\n",
              "      filter: drop-shadow(0px 1px 2px rgba(0, 0, 0, 0.3));\n",
              "      fill: #FFFFFF;\n",
              "    }\n",
              "  </style>\n",
              "\n",
              "      <script>\n",
              "        const buttonEl =\n",
              "          document.querySelector('#df-659fe4bb-20a5-4b67-92c2-1ea292b7df91 button.colab-df-convert');\n",
              "        buttonEl.style.display =\n",
              "          google.colab.kernel.accessAllowed ? 'block' : 'none';\n",
              "\n",
              "        async function convertToInteractive(key) {\n",
              "          const element = document.querySelector('#df-659fe4bb-20a5-4b67-92c2-1ea292b7df91');\n",
              "          const dataTable =\n",
              "            await google.colab.kernel.invokeFunction('convertToInteractive',\n",
              "                                                     [key], {});\n",
              "          if (!dataTable) return;\n",
              "\n",
              "          const docLinkHtml = 'Like what you see? Visit the ' +\n",
              "            '<a target=\"_blank\" href=https://colab.research.google.com/notebooks/data_table.ipynb>data table notebook</a>'\n",
              "            + ' to learn more about interactive tables.';\n",
              "          element.innerHTML = '';\n",
              "          dataTable['output_type'] = 'display_data';\n",
              "          await google.colab.output.renderOutput(dataTable, element);\n",
              "          const docLink = document.createElement('div');\n",
              "          docLink.innerHTML = docLinkHtml;\n",
              "          element.appendChild(docLink);\n",
              "        }\n",
              "      </script>\n",
              "    </div>\n",
              "  </div>\n",
              "  "
            ]
          },
          "metadata": {},
          "execution_count": 970
        },
        {
          "output_type": "display_data",
          "data": {
            "text/plain": [
              "<Figure size 640x480 with 1 Axes>"
            ],
            "image/png": "[encoded data removed]"
          },
          "metadata": {}
        }
      ]
    },
    {
      "cell_type": "code",
      "source": [
        "model_curves(y_probs=y_prob_nn_mlp)"
      ],
      "metadata": {
        "colab": {
          "base_uri": "https://localhost:8080/",
          "height": 388
        },
        "id": "C8pdMUJgQU1G",
        "outputId": "14b2045b-a17d-4e2a-b628-6a329f5f6086"
      },
      "execution_count": null,
      "outputs": [
        {
          "output_type": "display_data",
          "data": {
            "text/plain": [
              "<Figure size 900x400 with 2 Axes>"
            ],
            "image/png": "[encoded data removed]"
          },
          "metadata": {}
        }
      ]
    },
    {
      "cell_type": "code",
      "source": [
        "# Store predictions\n",
        "model_pred_dict_update(y_pred=y_pred_nn_mlp, y_probs=y_prob_nn_mlp,\n",
        "                       model_name=model_name, features_id=features_id)\n",
        "\n",
        "model_predictions"
      ],
      "metadata": {
        "id": "jZtYcQc5QBSD"
      },
      "execution_count": null,
      "outputs": []
    },
    {
      "cell_type": "markdown",
      "source": [
        "#### **Model 5: RandomForrest**"
      ],
      "metadata": {
        "id": "WNB7wAPXXm6N"
      }
    },
    {
      "cell_type": "markdown",
      "source": [
        "##### **Build Model**"
      ],
      "metadata": {
        "id": "B315x9S-G-kw"
      }
    },
    {
      "cell_type": "code",
      "source": [
        "model_name = \"Random Forest\"\n",
        "# define the model\n",
        "rf_model = RandomForestClassifier(n_estimators=100, criterion='gini', max_features=None)\n",
        "# RandomForestClassifier(n_estimators=10, criterion='gini', max_depth=None,min_samples_split=2,\n",
        "#                        min_samples_leaf=1, min_weight_fraction_leaf=0.0, max_features='auto',\n",
        "#                        max_leaf_nodes=None,bootstrap=True, oob_score=False, n_jobs=1,\n",
        "#                        random_state=None, verbose=0, warm_start=False,class_weight=None)\n",
        "\n",
        "## None = checks all features each node.\n",
        "\n",
        "# fit the model\n",
        "rf_model.fit(X_train, y_train)"
      ],
      "metadata": {
        "colab": {
          "base_uri": "https://localhost:8080/",
          "height": 75
        },
        "id": "2NeCmlyzXqO_",
        "outputId": "d4b7d91d-fd21-4bc0-8c38-5c5d9e6227b7"
      },
      "execution_count": null,
      "outputs": [
        {
          "output_type": "execute_result",
          "data": {
            "text/plain": [
              "RandomForestClassifier(max_features=None)"
            ],
            "text/html": [
              "<style>#sk-container-id-59 {color: black;background-color: white;}#sk-container-id-59 pre{padding: 0;}#sk-container-id-59 div.sk-toggleable {background-color: white;}#sk-container-id-59 label.sk-toggleable__label {cursor: pointer;display: block;width: 100%;margin-bottom: 0;padding: 0.3em;box-sizing: border-box;text-align: center;}#sk-container-id-59 label.sk-toggleable__label-arrow:before {content: \"▸\";float: left;margin-right: 0.25em;color: #696969;}#sk-container-id-59 label.sk-toggleable__label-arrow:hover:before {color: black;}#sk-container-id-59 div.sk-estimator:hover label.sk-toggleable__label-arrow:before {color: black;}#sk-container-id-59 div.sk-toggleable__content {max-height: 0;max-width: 0;overflow: hidden;text-align: left;background-color: #f0f8ff;}#sk-container-id-59 div.sk-toggleable__content pre {margin: 0.2em;color: black;border-radius: 0.25em;background-color: #f0f8ff;}#sk-container-id-59 input.sk-toggleable__control:checked~div.sk-toggleable__content {max-height: 200px;max-width: 100%;overflow: auto;}#sk-container-id-59 input.sk-toggleable__control:checked~label.sk-toggleable__label-arrow:before {content: \"▾\";}#sk-container-id-59 div.sk-estimator input.sk-toggleable__control:checked~label.sk-toggleable__label {background-color: #d4ebff;}#sk-container-id-59 div.sk-label input.sk-toggleable__control:checked~label.sk-toggleable__label {background-color: #d4ebff;}#sk-container-id-59 input.sk-hidden--visually {border: 0;clip: rect(1px 1px 1px 1px);clip: rect(1px, 1px, 1px, 1px);height: 1px;margin: -1px;overflow: hidden;padding: 0;position: absolute;width: 1px;}#sk-container-id-59 div.sk-estimator {font-family: monospace;background-color: #f0f8ff;border: 1px dotted black;border-radius: 0.25em;box-sizing: border-box;margin-bottom: 0.5em;}#sk-container-id-59 div.sk-estimator:hover {background-color: #d4ebff;}#sk-container-id-59 div.sk-parallel-item::after {content: \"\";width: 100%;border-bottom: 1px solid gray;flex-grow: 1;}#sk-container-id-59 div.sk-label:hover label.sk-toggleable__label {background-color: #d4ebff;}#sk-container-id-59 div.sk-serial::before {content: \"\";position: absolute;border-left: 1px solid gray;box-sizing: border-box;top: 0;bottom: 0;left: 50%;z-index: 0;}#sk-container-id-59 div.sk-serial {display: flex;flex-direction: column;align-items: center;background-color: white;padding-right: 0.2em;padding-left: 0.2em;position: relative;}#sk-container-id-59 div.sk-item {position: relative;z-index: 1;}#sk-container-id-59 div.sk-parallel {display: flex;align-items: stretch;justify-content: center;background-color: white;position: relative;}#sk-container-id-59 div.sk-item::before, #sk-container-id-59 div.sk-parallel-item::before {content: \"\";position: absolute;border-left: 1px solid gray;box-sizing: border-box;top: 0;bottom: 0;left: 50%;z-index: -1;}#sk-container-id-59 div.sk-parallel-item {display: flex;flex-direction: column;z-index: 1;position: relative;background-color: white;}#sk-container-id-59 div.sk-parallel-item:first-child::after {align-self: flex-end;width: 50%;}#sk-container-id-59 div.sk-parallel-item:last-child::after {align-self: flex-start;width: 50%;}#sk-container-id-59 div.sk-parallel-item:only-child::after {width: 0;}#sk-container-id-59 div.sk-dashed-wrapped {border: 1px dashed gray;margin: 0 0.4em 0.5em 0.4em;box-sizing: border-box;padding-bottom: 0.4em;background-color: white;}#sk-container-id-59 div.sk-label label {font-family: monospace;font-weight: bold;display: inline-block;line-height: 1.2em;}#sk-container-id-59 div.sk-label-container {text-align: center;}#sk-container-id-59 div.sk-container {/* jupyter's `normalize.less` sets `[hidden] { display: none; }` but bootstrap.min.css set `[hidden] { display: none !important; }` so we also need the `!important` here to be able to override the default hidden behavior on the sphinx rendered scikit-learn.org. See: https://github.com/scikit-learn/scikit-learn/issues/21755 */display: inline-block !important;position: relative;}#sk-container-id-59 div.sk-text-repr-fallback {display: none;}</style><div id=\"sk-container-id-59\" class=\"sk-top-container\"><div class=\"sk-text-repr-fallback\"><pre>RandomForestClassifier(max_features=None)</pre><b>In a Jupyter environment, please rerun this cell to show the HTML representation or trust the notebook. <br />On GitHub, the HTML representation is unable to render, please try loading this page with nbviewer.org.</b></div><div class=\"sk-container\" hidden><div class=\"sk-item\"><div class=\"sk-estimator sk-toggleable\"><input class=\"sk-toggleable__control sk-hidden--visually\" id=\"sk-estimator-id-59\" type=\"checkbox\" checked><label for=\"sk-estimator-id-59\" class=\"sk-toggleable__label sk-toggleable__label-arrow\">RandomForestClassifier</label><div class=\"sk-toggleable__content\"><pre>RandomForestClassifier(max_features=None)</pre></div></div></div></div></div>"
            ]
          },
          "metadata": {},
          "execution_count": 973
        }
      ]
    },
    {
      "cell_type": "code",
      "source": [
        "# predictions\n",
        "y_pred_rf = rf_model.predict(X_test)\n",
        "# probabilities\n",
        "y_prob_rf = rf_model.predict_proba(X_test); y_prob_rf"
      ],
      "metadata": {
        "colab": {
          "base_uri": "https://localhost:8080/"
        },
        "id": "O6qnZit0GV9m",
        "outputId": "0a42070e-ca93-4411-d908-ae6fd2c21b18"
      },
      "execution_count": null,
      "outputs": [
        {
          "output_type": "execute_result",
          "data": {
            "text/plain": [
              "array([[1.  , 0.  ],\n",
              "       [0.09, 0.91],\n",
              "       [1.  , 0.  ],\n",
              "       ...,\n",
              "       [0.  , 1.  ],\n",
              "       [0.  , 1.  ],\n",
              "       [1.  , 0.  ]])"
            ]
          },
          "metadata": {},
          "execution_count": 974
        }
      ]
    },
    {
      "cell_type": "markdown",
      "source": [
        "##### **Evaluate Model**"
      ],
      "metadata": {
        "id": "UdqwHKVfHKve"
      }
    },
    {
      "cell_type": "code",
      "source": [
        "eval_model(y_pred=y_pred_rf, model_name=model_name, features_id=features_id)"
      ],
      "metadata": {
        "colab": {
          "base_uri": "https://localhost:8080/",
          "height": 603
        },
        "id": "3hFITKq-HJ1u",
        "outputId": "5cd9e049-f63a-4a31-d7b2-38546512eb74"
      },
      "execution_count": null,
      "outputs": [
        {
          "output_type": "execute_result",
          "data": {
            "text/plain": [
              "        Model Name     Class    TPR    FPR Precision Recall     F1 ROC Area  \\\n",
              "1  Gaussian NB: F5         0   0.85  0.514     0.618  0.486  0.544    0.668   \n",
              "2  Gaussian NB: F5         1  0.486   0.15     0.767   0.85  0.806    0.668   \n",
              "3  Gaussian NB: F5  weighted  0.704  0.391     0.718  0.728  0.719    0.668   \n",
              "\n",
              "    MCC  \n",
              "1  0.36  \n",
              "2  0.36  \n",
              "3  0.36  "
            ],
            "text/html": [
              "\n",
              "  <div id=\"df-46184c64-6a42-4015-b8a4-0f4a461da5aa\">\n",
              "    <div class=\"colab-df-container\">\n",
              "      <div>\n",
              "<style scoped>\n",
              "    .dataframe tbody tr th:only-of-type {\n",
              "        vertical-align: middle;\n",
              "    }\n",
              "\n",
              "    .dataframe tbody tr th {\n",
              "        vertical-align: top;\n",
              "    }\n",
              "\n",
              "    .dataframe thead th {\n",
              "        text-align: right;\n",
              "    }\n",
              "</style>\n",
              "<table border=\"1\" class=\"dataframe\">\n",
              "  <thead>\n",
              "    <tr style=\"text-align: right;\">\n",
              "      <th></th>\n",
              "      <th>Model Name</th>\n",
              "      <th>Class</th>\n",
              "      <th>TPR</th>\n",
              "      <th>FPR</th>\n",
              "      <th>Precision</th>\n",
              "      <th>Recall</th>\n",
              "      <th>F1</th>\n",
              "      <th>ROC Area</th>\n",
              "      <th>MCC</th>\n",
              "    </tr>\n",
              "  </thead>\n",
              "  <tbody>\n",
              "    <tr>\n",
              "      <th>1</th>\n",
              "      <td>Gaussian NB: F5</td>\n",
              "      <td>0</td>\n",
              "      <td>0.85</td>\n",
              "      <td>0.514</td>\n",
              "      <td>0.618</td>\n",
              "      <td>0.486</td>\n",
              "      <td>0.544</td>\n",
              "      <td>0.668</td>\n",
              "      <td>0.36</td>\n",
              "    </tr>\n",
              "    <tr>\n",
              "      <th>2</th>\n",
              "      <td>Gaussian NB: F5</td>\n",
              "      <td>1</td>\n",
              "      <td>0.486</td>\n",
              "      <td>0.15</td>\n",
              "      <td>0.767</td>\n",
              "      <td>0.85</td>\n",
              "      <td>0.806</td>\n",
              "      <td>0.668</td>\n",
              "      <td>0.36</td>\n",
              "    </tr>\n",
              "    <tr>\n",
              "      <th>3</th>\n",
              "      <td>Gaussian NB: F5</td>\n",
              "      <td>weighted</td>\n",
              "      <td>0.704</td>\n",
              "      <td>0.391</td>\n",
              "      <td>0.718</td>\n",
              "      <td>0.728</td>\n",
              "      <td>0.719</td>\n",
              "      <td>0.668</td>\n",
              "      <td>0.36</td>\n",
              "    </tr>\n",
              "  </tbody>\n",
              "</table>\n",
              "</div>\n",
              "      <button class=\"colab-df-convert\" onclick=\"convertToInteractive('df-46184c64-6a42-4015-b8a4-0f4a461da5aa')\"\n",
              "              title=\"Convert this dataframe to an interactive table.\"\n",
              "              style=\"display:none;\">\n",
              "        \n",
              "  <svg xmlns=\"http://www.w3.org/2000/svg\" height=\"24px\"viewBox=\"0 0 24 24\"\n",
              "       width=\"24px\">\n",
              "    <path d=\"M0 0h24v24H0V0z\" fill=\"none\"/>\n",
              "    <path d=\"M18.56 5.44l.94 2.06.94-2.06 2.06-.94-2.06-.94-.94-2.06-.94 2.06-2.06.94zm-11 1L8.5 8.5l.94-2.06 2.06-.94-2.06-.94L8.5 2.5l-.94 2.06-2.06.94zm10 10l.94 2.06.94-2.06 2.06-.94-2.06-.94-.94-2.06-.94 2.06-2.06.94z\"/><path d=\"M17.41 7.96l-1.37-1.37c-.4-.4-.92-.59-1.43-.59-.52 0-1.04.2-1.43.59L10.3 9.45l-7.72 7.72c-.78.78-.78 2.05 0 2.83L4 21.41c.39.39.9.59 1.41.59.51 0 1.02-.2 1.41-.59l7.78-7.78 2.81-2.81c.8-.78.8-2.07 0-2.86zM5.41 20L4 18.59l7.72-7.72 1.47 1.35L5.41 20z\"/>\n",
              "  </svg>\n",
              "      </button>\n",
              "      \n",
              "  <style>\n",
              "    .colab-df-container {\n",
              "      display:flex;\n",
              "      flex-wrap:wrap;\n",
              "      gap: 12px;\n",
              "    }\n",
              "\n",
              "    .colab-df-convert {\n",
              "      background-color: #E8F0FE;\n",
              "      border: none;\n",
              "      border-radius: 50%;\n",
              "      cursor: pointer;\n",
              "      display: none;\n",
              "      fill: #1967D2;\n",
              "      height: 32px;\n",
              "      padding: 0 0 0 0;\n",
              "      width: 32px;\n",
              "    }\n",
              "\n",
              "    .colab-df-convert:hover {\n",
              "      background-color: #E2EBFA;\n",
              "      box-shadow: 0px 1px 2px rgba(60, 64, 67, 0.3), 0px 1px 3px 1px rgba(60, 64, 67, 0.15);\n",
              "      fill: #174EA6;\n",
              "    }\n",
              "\n",
              "    [theme=dark] .colab-df-convert {\n",
              "      background-color: #3B4455;\n",
              "      fill: #D2E3FC;\n",
              "    }\n",
              "\n",
              "    [theme=dark] .colab-df-convert:hover {\n",
              "      background-color: #434B5C;\n",
              "      box-shadow: 0px 1px 3px 1px rgba(0, 0, 0, 0.15);\n",
              "      filter: drop-shadow(0px 1px 2px rgba(0, 0, 0, 0.3));\n",
              "      fill: #FFFFFF;\n",
              "    }\n",
              "  </style>\n",
              "\n",
              "      <script>\n",
              "        const buttonEl =\n",
              "          document.querySelector('#df-46184c64-6a42-4015-b8a4-0f4a461da5aa button.colab-df-convert');\n",
              "        buttonEl.style.display =\n",
              "          google.colab.kernel.accessAllowed ? 'block' : 'none';\n",
              "\n",
              "        async function convertToInteractive(key) {\n",
              "          const element = document.querySelector('#df-46184c64-6a42-4015-b8a4-0f4a461da5aa');\n",
              "          const dataTable =\n",
              "            await google.colab.kernel.invokeFunction('convertToInteractive',\n",
              "                                                     [key], {});\n",
              "          if (!dataTable) return;\n",
              "\n",
              "          const docLinkHtml = 'Like what you see? Visit the ' +\n",
              "            '<a target=\"_blank\" href=https://colab.research.google.com/notebooks/data_table.ipynb>data table notebook</a>'\n",
              "            + ' to learn more about interactive tables.';\n",
              "          element.innerHTML = '';\n",
              "          dataTable['output_type'] = 'display_data';\n",
              "          await google.colab.output.renderOutput(dataTable, element);\n",
              "          const docLink = document.createElement('div');\n",
              "          docLink.innerHTML = docLinkHtml;\n",
              "          element.appendChild(docLink);\n",
              "        }\n",
              "      </script>\n",
              "    </div>\n",
              "  </div>\n",
              "  "
            ]
          },
          "metadata": {},
          "execution_count": 991
        },
        {
          "output_type": "display_data",
          "data": {
            "text/plain": [
              "<Figure size 640x480 with 1 Axes>"
            ],
            "image/png": "[encoded data removed]"
          },
          "metadata": {}
        }
      ]
    },
    {
      "cell_type": "code",
      "source": [
        "model_curves(y_probs=y_prob_rf)"
      ],
      "metadata": {
        "colab": {
          "base_uri": "https://localhost:8080/",
          "height": 388
        },
        "id": "sTsZkL-xLfzj",
        "outputId": "88926c63-f30e-47de-8f5f-8fc368bf4599"
      },
      "execution_count": null,
      "outputs": [
        {
          "output_type": "display_data",
          "data": {
            "text/plain": [
              "<Figure size 900x400 with 2 Axes>"
            ],
            "image/png": "[encoded data removed]"
          },
          "metadata": {}
        }
      ]
    },
    {
      "cell_type": "code",
      "source": [
        "# Store predictions\n",
        "model_pred_dict_update(y_pred=y_pred_knn, y_probs=y_prob_knn,\n",
        "                       model_name=model_name, features_id=features_id)\n",
        "\n",
        "model_predictions"
      ],
      "metadata": {
        "id": "jXeEjBQfLONr"
      },
      "execution_count": null,
      "outputs": []
    },
    {
      "cell_type": "markdown",
      "source": [
        "##### **Feature Importance**"
      ],
      "metadata": {
        "id": "4X1ZYsQUdLH1"
      }
    },
    {
      "cell_type": "code",
      "source": [
        "# using random forest for feature importance on a classification problem\n",
        "\n",
        "# get importance\n",
        "importance = rf_model.feature_importances_\n",
        "\n",
        "# plot feature importance\n",
        "plt.bar([x for x in range(len(importance))], importance)\n",
        "plt.show()\n",
        "\n",
        "\n",
        "\n",
        "\n",
        "# Create a dataframe of feature importance\n",
        "\n",
        "# # Feature Set 1 and 2\n",
        "# feature_names = list(feature_info['rename'])\n",
        "# feature_names.remove('havarth')\n",
        "\n",
        "# Feature Set 3 and 4\n",
        "# feature_names = list(df_combo4.columns) # 3\n",
        "feature_names = top_10_gini_features # 4\n",
        "feature_names.remove('havarth')\n",
        "\n",
        "\n",
        "feature_importance = pd.DataFrame({'feature': feature_names, 'importance': importance}); feature_importance\n",
        "top_features = feature_importance.sort_values(by='importance', ascending=False)\n",
        "\n",
        "top_features_10 = top_features.head(10); top_features_10\n",
        "top_features"
      ],
      "metadata": {
        "id": "ilnGanbIGF29"
      },
      "execution_count": null,
      "outputs": []
    },
    {
      "cell_type": "markdown",
      "source": [
        "## **Functions**"
      ],
      "metadata": {
        "id": "EYljs8X_wDZF"
      }
    },
    {
      "cell_type": "markdown",
      "source": [
        "#### ***Data Wrangling Functions***"
      ],
      "metadata": {
        "id": "aGryugAYwUjU"
      }
    },
    {
      "cell_type": "markdown",
      "source": [
        "##### Median, Mean, Mode Replace Function"
      ],
      "metadata": {
        "id": "HbLjK83ooxeG"
      }
    },
    {
      "cell_type": "code",
      "source": [
        "# Replaces ?, and all other blanks/no response/unknown answers with allocated metric (mean, median, mode)\n",
        "# Had a lot of issues with typing. np.nan, str, floats, etc. working with a lot of different data types in same column.\n",
        "\n",
        "def stat_replace(df):\n",
        "  for col in df:\n",
        "    if df[col].str.contains(('median')).any():\n",
        "      median_col = df[col].dropna()[~df[col].isin(['median', 'nan'])].astype(float)\n",
        "      median = round(stats.median(median_col))\n",
        "      df[col] = df[col].replace(['median', 'nan'], median)\n",
        "    elif df[col].str.contains('mean').any():\n",
        "      mean_col = df[col].dropna()[~df[col].isin(['mean', 'nan'])].astype(float)\n",
        "      mean = round(stats.mean(mean_col))\n",
        "      df[col] = df[col].replace(['mean', 'nan'], mean)\n",
        "    elif df[col].str.contains('mode').any():\n",
        "      mode_col = df[col].dropna()[~df[col].isin(['mode', 'nan'])].astype(float)\n",
        "      mode = round(stats.mode(mode_col))\n",
        "      df[col] = df[col].replace(['mode', 'nan'], mode)"
      ],
      "metadata": {
        "id": "2wtC1qET1J0f"
      },
      "execution_count": null,
      "outputs": []
    },
    {
      "cell_type": "code",
      "source": [
        "# Check Function\n",
        "# df_test = df[['children', 'edu', 'sex', 'height', 'income']]; df_test\n",
        "# df_values(df_test)\n",
        "# stat_replace(df_test)\n",
        "# df_values(df_test)\n",
        "\n",
        "# # Why getting a str and int? when i convert?\n",
        "# df_test[df_test.sex == 2] # 175 row\n",
        "# df_test[df_test.sex == '2'] # row 0\n",
        "\n",
        "# df_values(df)\n",
        "# df_test2 = df_test.astype('str'); df_test2.dtypes\n",
        "# df_values(df_test2)\n",
        "# # now it works.\n",
        "\n",
        "# # Checking replace and fills\n",
        "# col = 'children'\n",
        "# df_before = df[col]\n",
        "# # number of nan before. all get converted to median val.\n",
        "# len(df.children[df.children.isna()])\n",
        "\n",
        "# df_values(df.children)\n",
        "# if df[col].str.contains('median').any():\n",
        "#   df_values(df[col])\n",
        "#   median_col = df[col].dropna()[~df[col].isin(['median', np.nan])].astype(float); median_col\n",
        "#   median = round(stats.median(median_col)); median\n",
        "#   # df[col] = df[col].replace(['median', np.nan], median)\n",
        "#   df[col] = df[col].replace(['median', np.nan], median)\n",
        "#   df_values(df[col])"
      ],
      "metadata": {
        "id": "aoL1JuSw86TG"
      },
      "execution_count": null,
      "outputs": []
    },
    {
      "cell_type": "markdown",
      "source": [
        "##### Complex Find and Replace Function"
      ],
      "metadata": {
        "id": "Cu21KNirL00n"
      }
    },
    {
      "cell_type": "code",
      "source": [
        "def df_find_replace(df, col, null_vals, replace, type):\n",
        "# Goes through each column and finds null values and replaces them with: specific value, mode, median, strata.\n",
        "\n",
        "  \"\"\"\n",
        "  df = dataframe\n",
        "  col = column\n",
        "  null_vals = list of null values in column you want to replace\n",
        "  replace = value you want to replace null values with.\n",
        "  Only applies if you use type = 'simple'. NA if using mode or strata.\n",
        "  type = type of replacement.\n",
        "    'simple' = simple find and replace.\n",
        "    'mean' = find and replace with mean of the col.\n",
        "    'median' = find and replace with median of the col.\n",
        "    'mode' = find and replace with mode of the col.\n",
        "    'strata' = find and replace with all variables of col, at proportions equal to the entire col.\n",
        "\n",
        "  todo:\n",
        "  check out df.replace() function, can input dictionary into it, which may be useful.\n",
        "  \"\"\"\n",
        "\n",
        "  if type == 'simple':\n",
        "    df_simple_find_replace(df, col, null_vals, replace)\n",
        "  elif type == 'mean':\n",
        "    replace = round(stats.mean(~df[col].isin(null_vals)))\n",
        "    df_simple_find_replace(df, col, null_vals, replace)\n",
        "  elif type == 'median':\n",
        "    replace = round(stats.median(~df[col].isin(null_vals)))\n",
        "    df_simple_find_replace(df, col, null_vals, replace)\n",
        "  elif type == 'mode':\n",
        "    replace = stats.mode(~df[col].isin(null_vals))\n",
        "    df_simple_find_replace(df, col, null_vals, replace)\n",
        "  elif type == 'strata':\n",
        "    df_strata_replace(df, col, null_vals)\n",
        "  else:\n",
        "    print(\"Replace type unknown.\")"
      ],
      "metadata": {
        "id": "SOoSGbkEMph6"
      },
      "execution_count": null,
      "outputs": []
    },
    {
      "cell_type": "code",
      "source": [
        "# # test function\n",
        "# df_test = df_raw1[list(features_r1['rename'])]\n",
        "# df_find_replace(df_test, 'age', [14], 'NA', 'median')\n",
        "\n",
        "\n",
        "# stats.median(df_test['age'])"
      ],
      "metadata": {
        "id": "bVtqsVacRX9a"
      },
      "execution_count": null,
      "outputs": []
    },
    {
      "cell_type": "markdown",
      "source": [
        "##### Simple Find and Replace Function"
      ],
      "metadata": {
        "id": "uZcK7D01MRyL"
      }
    },
    {
      "cell_type": "code",
      "source": [
        "# Create Function\n",
        "# finds value x in df.col and changes to y.\n",
        "# make sure same dtype\n",
        "\n",
        "def df_simple_find_replace(df, col, null_vals, replace):\n",
        "  print(\"DataFrame Column Before:\")\n",
        "  print(df[col].value_counts())\n",
        "\n",
        "  index = df[df[col].isin(null_vals)].index\n",
        "  df.loc[index, col] = replace\n",
        "\n",
        "  print(\"DataFrame Column After:\")\n",
        "  print(df[col].value_counts())"
      ],
      "metadata": {
        "id": "5sbA-SZVLerP"
      },
      "execution_count": null,
      "outputs": []
    },
    {
      "cell_type": "code",
      "source": [
        "# # Test function\n",
        "# df_2 = df_raw1[list(features_r1['rename'])]\n",
        "# df_simple_find_replace(df_2, 'age', [1000], 14)"
      ],
      "metadata": {
        "id": "6RaCkXcKS8kE"
      },
      "execution_count": null,
      "outputs": []
    },
    {
      "cell_type": "markdown",
      "source": [
        "##### Stratified Replacement Function"
      ],
      "metadata": {
        "id": "itCos9_gJAVh"
      }
    },
    {
      "cell_type": "code",
      "source": [
        "# Stratafied Filling of Blanks/Nulls/NA\n",
        "# List null, blank values.\n",
        "# Function will replace all with values from the feature in a ratio equal to the stratified feature.\n",
        "\n",
        "def df_strata_replace(df, col, null_vals):\n",
        "\n",
        "  # find indexes of null values\n",
        "  index = df[df[col].isin(null_vals)].index; index\n",
        "  # null values\n",
        "  n_null = len(index)\n",
        "\n",
        "  # find strata percentages\n",
        "  # not including null values\n",
        "  df_st = df[~df[col].isin(null_vals)]; df_st\n",
        "  strata_per = df_st[col].value_counts()/sum(df_st[col].value_counts())\n",
        "  strata_per\n",
        "  strata_per.index\n",
        "\n",
        "  # convert percentage to quantity of null values to assign to each variable in the population\n",
        "  null_val_quant = np.rint(strata_per.values*n_null).astype('int'); null_val_quant\n",
        "\n",
        "  # add any discrepancy to the most frequent variable in col\n",
        "  sum_strata = sum(null_val_quant); sum_strata\n",
        "  diff = n_null - sum_strata; diff\n",
        "\n",
        "  # Create a dictionary of unique variables in column and the number of null values to replace with said variable.\n",
        "  strata_dict = {strata_per.index[i]:null_val_quant[i] for i in range(0, len(strata_per))}; strata_dict\n",
        "  strata_dict[stats.mode(df[col])] = strata_dict[stats.mode(df[col])] + diff\n",
        "  # Check\n",
        "  sum(strata_dict.values()) == n_null\n",
        "\n",
        "\n",
        "  # Print statement check\n",
        "  print(\"DataFrame Column Before:\")\n",
        "  print(df_values(df[col]))\n",
        "\n",
        "\n",
        "  # randomize our indexes\n",
        "  index_list = np.array(index)\n",
        "  random.shuffle(index_list)\n",
        "  index_list\n",
        "\n",
        "  i = 0\n",
        "  for key, value in strata_dict.items():\n",
        "    n = i + strata_dict[key]\n",
        "    # rows containing null values\n",
        "    # print(df.loc[index[i:n], col])\n",
        "    df.loc[index[i:n], col] = key\n",
        "    # all null rows replaced\n",
        "    # print(df.loc[index[i:n], col])\n",
        "    i += strata_dict[key]"
      ],
      "metadata": {
        "id": "zS-4uYrOFJvq"
      },
      "execution_count": null,
      "outputs": []
    },
    {
      "cell_type": "code",
      "source": [
        "# # Test function\n",
        "\n",
        "# df_test = df_raw1[list(features_r1['rename'])]\n",
        "# strata_replace(df_test, 'age', [14])\n",
        "\n",
        "# df_test[df_test['age'] == 14]"
      ],
      "metadata": {
        "id": "TBLslStoLRdS"
      },
      "execution_count": null,
      "outputs": []
    },
    {
      "cell_type": "markdown",
      "source": [
        "##### DataFrame Value Count Function"
      ],
      "metadata": {
        "id": "L1y0BEjBL7Aw"
      }
    },
    {
      "cell_type": "code",
      "source": [
        "# Create function that shows value distribution for each column\n",
        "def df_values(df):\n",
        "    if isinstance(df, pd.DataFrame):\n",
        "      for col in df.columns:\n",
        "        print(df[col].value_counts())\n",
        "    elif isinstance(df,pd.Series):\n",
        "      print(df.value_counts())"
      ],
      "metadata": {
        "id": "NxEQ-ECwcMNz"
      },
      "execution_count": null,
      "outputs": []
    },
    {
      "cell_type": "markdown",
      "source": [
        "#### ***Evaluation Functions***"
      ],
      "metadata": {
        "id": "M3t08jJRuBNV"
      }
    },
    {
      "cell_type": "markdown",
      "source": [
        "##### Model Prediction Storage"
      ],
      "metadata": {
        "id": "SdY3Ywl_CLtl"
      }
    },
    {
      "cell_type": "code",
      "source": [
        "# model_predictions = {}\n",
        "model_name = \"default_model_name\"\n",
        "def model_pred_dict_update(y_pred, y_probs, model_name=model_name, features_id=features_id):\n",
        "\n",
        "  identifier =  model_name + \": \" + features_id; identifier\n",
        "\n",
        "  model_dict = {identifier:\n",
        "    {'Model Type': model_name, 'Features Used': features_id,\n",
        "    'y_preds':\ty_pred, 'y_probs':\ty_probs}}\n",
        "\n",
        "  # Master Dictionary for Model Prediction Storage\n",
        "  model_predictions.update(model_dict)"
      ],
      "metadata": {
        "id": "mWlNfBgpCDYK"
      },
      "execution_count": null,
      "outputs": []
    },
    {
      "cell_type": "markdown",
      "source": [
        "##### Model Performance Metrics Function"
      ],
      "metadata": {
        "id": "DspoDEHNq-mM"
      }
    },
    {
      "cell_type": "code",
      "source": [
        "def eval_model(y_pred, y_test=y_test, model_name=model_name, features_id=features_id):\n",
        "\n",
        "  identifier =  model_name + \": \" + features_id; identifier\n",
        "\n",
        "  cm = confusion_matrix(y_test, y_pred)\n",
        "\n",
        "  # Confusion Matrix\n",
        "  tn, fp, fn, tp = cm.ravel()\n",
        "  tn, fp, fn, tp\n",
        "\n",
        "  # TP rate\n",
        "  # class = 1, positive\n",
        "  tpr = tp/(tp+fn); tpr\n",
        "  # class = 0, negative\n",
        "  tnr = tn/(tn+fp)\n",
        "  # weighted\n",
        "  total = (tp+fp+tn+fp); total\n",
        "  N = tn + fn\n",
        "  P = tp + fp\n",
        "  tpr_weighted = tnr*(N/total) + tpr*(P/total); tpr_weighted\n",
        "\n",
        "\n",
        "  # FP rate\n",
        "  # class = 1, positive\n",
        "  fpr = fp/(fp+tn); fpr\n",
        "  # class = 0, negative\n",
        "  fnr = fn/(fn+tp); fnr\n",
        "  # weighted\n",
        "  fpr_weighted = fpr*(P/total) + fnr*(N/total); fpr_weighted\n",
        "\n",
        "\n",
        "\n",
        "  # precision\n",
        "  # gives precision in form [0 Class, 1 Class (pos_label)]\n",
        "  precision = metrics.precision_score(y_test, y_pred, pos_label=1, average=None); precision\n",
        "  # weighted average over both classes\n",
        "  precision_weight = metrics.precision_score(y_test, y_pred, pos_label=1, average='weighted')\n",
        "\n",
        "\n",
        "  # recall\n",
        "  recall = metrics.recall_score(y_test, y_pred, pos_label=1, average=None)\n",
        "  recall_weight = metrics.recall_score(y_test, y_pred, pos_label=1, average='weighted')\n",
        "\n",
        "\n",
        "  # F-measure\n",
        "  f1 = metrics.f1_score(y_test, y_pred, pos_label=1, average=None); f1\n",
        "  f1_weight = metrics.f1_score(y_test, y_pred, pos_label=1, average='weighted')\n",
        "\n",
        "\n",
        "  # ROC area\n",
        "  # SHOULD THIS CHANGE? Don't think so since its a metric for both classes.\n",
        "  roc_area = metrics.roc_auc_score(y_test, y_pred, average=None); roc_area\n",
        "  roc_area_weight = metrics.roc_auc_score(y_test, y_pred, average='weighted'); roc_area_weight\n",
        "\n",
        "\n",
        "  # MCC\n",
        "  # Don't believe you can do a weighted average of this.\n",
        "  mcc = matthews_corrcoef(y_test, y_pred)\n",
        "\n",
        "\n",
        "\n",
        "  # Weighted average (over all classes) of each of the above performance measures.\n",
        "  # PRC (imbalanced data set).\n",
        "  precision_recall_curve(y_test, y_pred)\n",
        "\n",
        "  eval_dict = {\"1\": {'Model Name': identifier, 'Class': 0,\n",
        "                    'TPR':\tround(tnr, 3), 'FPR':\tround(fnr, 3),\n",
        "                    'Precision':\tround(precision[0], 3), 'Recall':\tround(recall[0], 3),\n",
        "                    'F1':\tround(f1[0], 3), 'ROC Area':\tround(roc_area, 3),\n",
        "                    'MCC': round(mcc, 3)},\n",
        "              \"2\": {'Model Name': identifier, 'Class': 1,\n",
        "                    'TPR':\tround(tpr, 3), 'FPR':\tround(fpr, 3),\n",
        "                    'Precision':\tround(precision[1], 3), 'Recall':\tround(recall[1], 3),\n",
        "                    'F1':\tround(f1[1], 3), 'ROC Area':\tround(roc_area, 3),\n",
        "                    'MCC': round(mcc, 3)},\n",
        "              \"3\": {'Model Name': identifier, 'Class': 'weighted',\n",
        "                    'TPR':\tround(tpr_weighted, 3), 'FPR':\tround(fpr_weighted, 3),\n",
        "                    'Precision':\tround(precision_weight, 3), 'Recall':\tround(recall_weight, 3),\n",
        "                    'F1':\tround(f1_weight, 3), 'ROC Area':\tround(roc_area, 3),\n",
        "                    'MCC': round(mcc, 3)}\n",
        "  }\n",
        "\n",
        "  df_eval = pd.DataFrame(eval_dict).transpose()\n",
        "\n",
        "  # Build cm graph\n",
        "  disp = ConfusionMatrixDisplay.from_predictions(y_test, y_pred, cmap='bone', colorbar=False)\n",
        "\n",
        "  return df_eval"
      ],
      "metadata": {
        "id": "tMvAnWbpq8p2"
      },
      "execution_count": null,
      "outputs": []
    },
    {
      "cell_type": "markdown",
      "source": [
        "##### ROC and PRC Constructer"
      ],
      "metadata": {
        "id": "0aZZ9Nu5uObQ"
      }
    },
    {
      "cell_type": "code",
      "source": [
        "def model_curves(y_probs, y_test=y_test, model_type=\"NA\"):\n",
        "\n",
        "  if model_type == \"NN\":\n",
        "    # get positive class probabilities\n",
        "    pos_probs = y_probs\n",
        "  else:\n",
        "    pos_probs = pd.DataFrame(y_probs)[1]\n",
        "\n",
        "  # ROC\n",
        "  fpr, tpr, _ = roc_curve(y_test, pos_probs, pos_label=1)\n",
        "  roc_display = RocCurveDisplay(fpr=fpr, tpr=tpr) #.plot()\n",
        "\n",
        "  # PRC\n",
        "  prec, recall, _ = precision_recall_curve(y_test, pos_probs, pos_label=1)\n",
        "  pr_display = PrecisionRecallDisplay(precision=prec, recall=recall) # .plot()\n",
        "\n",
        "  # Plot\n",
        "  fig, (ax1, ax2) = plt.subplots(1, 2, figsize=(9, 4))\n",
        "\n",
        "  roc_display.plot(ax=ax1)\n",
        "  pr_display.plot(ax=ax2)\n",
        "  plt.show()"
      ],
      "metadata": {
        "id": "pV9RbLQ5uAYl"
      },
      "execution_count": null,
      "outputs": []
    },
    {
      "cell_type": "markdown",
      "source": [
        "##### ***ROC and PRC Multiple Model Overlay***"
      ],
      "metadata": {
        "id": "dSBa0sf-CU4O"
      }
    },
    {
      "cell_type": "code",
      "source": [
        "# Multiple Curves\n",
        "\n",
        "#set up plotting area\n",
        "plt.figure(0).clf()\n",
        "\n",
        "\n",
        "pos_prob_dt = pd.DataFrame(y_prob_dt)[1]\n",
        "pos_prob_nb = pd.DataFrame(y_prob_nb)[1]\n",
        "\n",
        "# ROC 1\n",
        "fpr, tpr, _ = metrics.roc_curve(y_test, pos_prob_dt, pos_label=1)\n",
        "auc = round(metrics.roc_auc_score(y_test, pos_prob_dt), 4)\n",
        "plt.plot(fpr,tpr,label= model_name+\", AUC=\"+str(auc))\n",
        "\n",
        "# ROC 2\n",
        "fpr, tpr, _ = metrics.roc_curve(y_test, pos_prob_nb, pos_label=1)\n",
        "auc = round(metrics.roc_auc_score(y_test, pos_prob_nb), 4)\n",
        "plt.plot(fpr,tpr,label= model_name+\", AUC=\"+str(auc))\n",
        "\n",
        "\n",
        "#add legend\n",
        "plt.legend()"
      ],
      "metadata": {
        "colab": {
          "base_uri": "https://localhost:8080/",
          "height": 258
        },
        "id": "bKVVqxtSCp6E",
        "outputId": "23dbe816-8688-44d4-f0f5-fa6742c95cd4"
      },
      "execution_count": null,
      "outputs": [
        {
          "output_type": "error",
          "ename": "NameError",
          "evalue": "ignored",
          "traceback": [
            "\u001b[0;31m---------------------------------------------------------------------------\u001b[0m",
            "\u001b[0;31mNameError\u001b[0m                                 Traceback (most recent call last)",
            "\u001b[0;32m<ipython-input-106-167c9adb0ba0>\u001b[0m in \u001b[0;36m<cell line: 7>\u001b[0;34m()\u001b[0m\n\u001b[1;32m      5\u001b[0m \u001b[0;34m\u001b[0m\u001b[0m\n\u001b[1;32m      6\u001b[0m \u001b[0;34m\u001b[0m\u001b[0m\n\u001b[0;32m----> 7\u001b[0;31m \u001b[0mpos_prob_dt\u001b[0m \u001b[0;34m=\u001b[0m \u001b[0mpd\u001b[0m\u001b[0;34m.\u001b[0m\u001b[0mDataFrame\u001b[0m\u001b[0;34m(\u001b[0m\u001b[0my_prob_dt\u001b[0m\u001b[0;34m)\u001b[0m\u001b[0;34m[\u001b[0m\u001b[0;36m1\u001b[0m\u001b[0;34m]\u001b[0m\u001b[0;34m\u001b[0m\u001b[0;34m\u001b[0m\u001b[0m\n\u001b[0m\u001b[1;32m      8\u001b[0m \u001b[0mpos_prob_nb\u001b[0m \u001b[0;34m=\u001b[0m \u001b[0mpd\u001b[0m\u001b[0;34m.\u001b[0m\u001b[0mDataFrame\u001b[0m\u001b[0;34m(\u001b[0m\u001b[0my_prob_nb\u001b[0m\u001b[0;34m)\u001b[0m\u001b[0;34m[\u001b[0m\u001b[0;36m1\u001b[0m\u001b[0;34m]\u001b[0m\u001b[0;34m\u001b[0m\u001b[0;34m\u001b[0m\u001b[0m\n\u001b[1;32m      9\u001b[0m \u001b[0;34m\u001b[0m\u001b[0m\n",
            "\u001b[0;31mNameError\u001b[0m: name 'y_prob_dt' is not defined"
          ]
        },
        {
          "output_type": "display_data",
          "data": {
            "text/plain": [
              "<Figure size 640x480 with 0 Axes>"
            ]
          },
          "metadata": {}
        }
      ]
    }
  ]
}